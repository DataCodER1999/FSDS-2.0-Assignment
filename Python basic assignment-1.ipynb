{
 "cells": [
  {
   "cell_type": "markdown",
   "id": "e7c512b4",
   "metadata": {},
   "source": [
    "1. In the below elements which of them are values or an expression? eg:- values can be integer or string and expressions will be mathematical operators.\n",
    "* \n",
    "'hello'\n",
    "-87.8\n",
    "- \n",
    "/ \n",
    "+\n",
    "6 \n"
   ]
  },
  {
   "cell_type": "markdown",
   "id": "7021ebe0",
   "metadata": {},
   "source": [
    "ANS  -  'hello' -> value\n",
    "        -87.8 -> value\n",
    "        (-) -> operator\n",
    "        (/) -> operator\n",
    "        (+) -> operator\n",
    "        (6) -> value\n",
    "        (*) -> operator\n",
    "        \n",
    "        sorry sir in the assignment expression was not clear at all as all the values were written in a horizontal line"
   ]
  },
  {
   "cell_type": "markdown",
   "id": "671bbcbb",
   "metadata": {},
   "source": []
  },
  {
   "cell_type": "markdown",
   "id": "eb143463",
   "metadata": {},
   "source": [
    "2. What is the difference between string and variable?"
   ]
  },
  {
   "cell_type": "markdown",
   "id": "e3a0ec03",
   "metadata": {},
   "source": [
    "ANS -> String is a value made up of text whereas variable is just a container holding values"
   ]
  },
  {
   "cell_type": "markdown",
   "id": "789aa1f0",
   "metadata": {},
   "source": []
  },
  {
   "cell_type": "markdown",
   "id": "87c23944",
   "metadata": {},
   "source": [
    "3. Describe three different data types."
   ]
  },
  {
   "cell_type": "markdown",
   "id": "25e44771",
   "metadata": {},
   "source": [
    "ANS -> Three different data types are\n",
    "  \n",
    "    1.) String - this is a type of data which is enclosed within single quotes or double quotes or even triple quotes for multi     line strings . Strings are made up of a sequence of characters . Any variable holding string value is an object of string       class\n",
    "    \n",
    "    2.) Integer - this is a type of data which contains numeric value not in demilal points . The value can be hold as large as    1 * 10^308. Integer variable is an object of int class\n",
    "    \n",
    "    3.) Float - this is a type of data which holds numeric values in decimal places . The values can be hold as large as            1 * 10^308. Float variable is an object of float class \n",
    "    "
   ]
  },
  {
   "cell_type": "markdown",
   "id": "f6364b99",
   "metadata": {},
   "source": []
  },
  {
   "cell_type": "markdown",
   "id": "7914734b",
   "metadata": {},
   "source": [
    "4. What is an expression made up of? What do all expressions do?"
   ]
  },
  {
   "cell_type": "markdown",
   "id": "8c73ef08",
   "metadata": {},
   "source": [
    "ANS -> An expression is made up of a combination of operands and operators . Expressions perform some sort of operations on the operands\n",
    "\n",
    "\n",
    "for eg ->  [a = 4 + 5]"
   ]
  },
  {
   "cell_type": "markdown",
   "id": "c17a34cb",
   "metadata": {},
   "source": []
  },
  {
   "cell_type": "markdown",
   "id": "9053ef4b",
   "metadata": {},
   "source": [
    "5. This assignment statements, like spam = 10. What is the difference between an expression and a statement?"
   ]
  },
  {
   "cell_type": "markdown",
   "id": "ef7cbf86",
   "metadata": {},
   "source": [
    "ANS -> Assignment statement assign a value to a variable where as an expression perform some sort of operation on two or more operands \n",
    "\n",
    "for eg ->   g = 23 -> assignment\n",
    "            g = 12 + 45 -> expression"
   ]
  },
  {
   "cell_type": "markdown",
   "id": "81f94949",
   "metadata": {},
   "source": []
  },
  {
   "cell_type": "markdown",
   "id": "23477b39",
   "metadata": {},
   "source": [
    "6. After running the following code, what does the variable bacon contain?\n",
    "bacon = 22\n",
    "bacon + 1\n"
   ]
  },
  {
   "cell_type": "markdown",
   "id": "dc73ff82",
   "metadata": {},
   "source": [
    "ANS -> the current value of bacon will be 22 as even after running the statement bacon + 1"
   ]
  },
  {
   "cell_type": "markdown",
   "id": "2125f25f",
   "metadata": {},
   "source": []
  },
  {
   "cell_type": "markdown",
   "id": "e76eba8d",
   "metadata": {},
   "source": [
    "7. What should the values of the following two terms be?\n",
    "'spam' + 'spamspam'\n",
    "'spam' * 3\n"
   ]
  },
  {
   "cell_type": "markdown",
   "id": "bbd6597a",
   "metadata": {},
   "source": [
    "ANS -> 1.) 'spamspamspam'\n",
    "    -> 2.) 'spamspamspam'"
   ]
  },
  {
   "cell_type": "markdown",
   "id": "da2e66eb",
   "metadata": {},
   "source": []
  },
  {
   "cell_type": "markdown",
   "id": "e080ee63",
   "metadata": {},
   "source": [
    "8. Why is eggs a valid variable name while 100 is invalid?"
   ]
  },
  {
   "cell_type": "markdown",
   "id": "e0988063",
   "metadata": {},
   "source": [
    "ANS -> \n",
    "\n",
    "It should begin with an alphabet.\n",
    "It should be written in lowercase.\n",
    "There may be more than one alphabet, but without any spaces between them.\n",
    "Digits may be used but only after alphabet.\n",
    "No special symbol can be used except the underscore (_) symbol. When multiple words are needed, an underscore should separate them.\n",
    "No keywords or command can be used.\n",
    "All statements in Python language are case sensitive. Thus a name A (in uppercase) is considered different from a name a (in lowercase).\n",
    "\n",
    " -> The variable egg follows all the above mentioned rules given above so it a valid variable\n",
    " -> The variable 100 does not follows all the above mentioned rules given above so it a valid variable as it starts with a no that is not allowed"
   ]
  },
  {
   "cell_type": "markdown",
   "id": "9bab024f",
   "metadata": {},
   "source": []
  },
  {
   "cell_type": "markdown",
   "id": "36dfad2a",
   "metadata": {},
   "source": [
    "9. What three functions can be used to get the integer, floating-point number, or string version of a value?"
   ]
  },
  {
   "cell_type": "markdown",
   "id": "b585abbf",
   "metadata": {},
   "source": [
    "ANS -> we can use format specifiers to get the values of integer, floating-point number, or string \n",
    "\n",
    "    %d -> for integer\n",
    "    %f -> for floating point numbers\n",
    "    %s -> for string"
   ]
  },
  {
   "cell_type": "markdown",
   "id": "5a7baf0c",
   "metadata": {},
   "source": []
  },
  {
   "cell_type": "markdown",
   "id": "8b5418b3",
   "metadata": {},
   "source": [
    "10. Why does this expression cause an error? How can you fix it?\n",
    "'I have eaten ' + 99 + ' burritos.'"
   ]
  },
  {
   "cell_type": "markdown",
   "id": "b84556c3",
   "metadata": {},
   "source": [
    "ANS -> this code will give error because strings cant be added with integer values"
   ]
  }
 ],
 "metadata": {
  "kernelspec": {
   "display_name": "Python 3 (ipykernel)",
   "language": "python",
   "name": "python3"
  },
  "language_info": {
   "codemirror_mode": {
    "name": "ipython",
    "version": 3
   },
   "file_extension": ".py",
   "mimetype": "text/x-python",
   "name": "python",
   "nbconvert_exporter": "python",
   "pygments_lexer": "ipython3",
   "version": "3.9.13"
  }
 },
 "nbformat": 4,
 "nbformat_minor": 5
}
