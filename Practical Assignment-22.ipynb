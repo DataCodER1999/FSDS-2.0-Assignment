{
 "cells": [
  {
   "cell_type": "markdown",
   "id": "013adaa4-60a9-4373-9e68-3eda745e4c98",
   "metadata": {},
   "source": [
    "Q.1 \n",
    "\n",
    "Create a function that takes three parameters where:\n",
    "•\tx is the start of the range (inclusive).\n",
    "•\ty is the end of the range (inclusive).\n",
    "•\tn is the divisor to be checked against.\n",
    "Return an ordered list with numbers in the range that are divisible by the third parameter n. Return an empty list if there are no numbers that are divisible by n.\n"
   ]
  },
  {
   "cell_type": "code",
   "execution_count": 2,
   "id": "37ab77f6-b6a3-485d-8108-42aba727af01",
   "metadata": {},
   "outputs": [],
   "source": [
    "def sequence(a,b,c):\n",
    "    l = []\n",
    "    for i in range(a,b+1):\n",
    "        if i%c == 0:\n",
    "            l.append(i)\n",
    "    return l"
   ]
  },
  {
   "cell_type": "code",
   "execution_count": 4,
   "id": "b5683b64-b058-4639-ad9e-60831ada2390",
   "metadata": {},
   "outputs": [
    {
     "data": {
      "text/plain": [
       "[3, 6, 9]"
      ]
     },
     "execution_count": 4,
     "metadata": {},
     "output_type": "execute_result"
    }
   ],
   "source": [
    "sequence(1,10,3)"
   ]
  },
  {
   "cell_type": "markdown",
   "id": "5d3a7450-31ef-49a5-b9ee-ac89bfc56de1",
   "metadata": {},
   "source": [
    "Q.2 \n",
    "Create a function that takes in two lists and returns True if the second list follows the first list by one element, and False otherwise. In other words, determine if the second list is the first list shifted to the right by 1"
   ]
  },
  {
   "cell_type": "code",
   "execution_count": 16,
   "id": "53739d63-4689-4b09-b40e-72f49e120526",
   "metadata": {},
   "outputs": [],
   "source": [
    "l1 = [1,2,3,4,5,6]\n",
    "l2 = [2,3,4,5,4,7]\n",
    "def shift(l1,l2):\n",
    "    if len(l1) == len(l2):\n",
    "        flag=False\n",
    "        for i in range(1,len(l1)-1):\n",
    "            if l2[i]-1 == l1[i]:\n",
    "                pass\n",
    "            else:\n",
    "                flag=True\n",
    "                return 'No, the second list is not shifted'\n",
    "        if flag == False:\n",
    "            return 'Yes, the second list is shifted'\n",
    "        "
   ]
  },
  {
   "cell_type": "code",
   "execution_count": 17,
   "id": "833e2835-ed0d-4d9e-8635-36ea4f91b1bc",
   "metadata": {},
   "outputs": [
    {
     "data": {
      "text/plain": [
       "'No, the second list is not shifted'"
      ]
     },
     "execution_count": 17,
     "metadata": {},
     "output_type": "execute_result"
    }
   ],
   "source": [
    "shift(l1,l2)"
   ]
  },
  {
   "cell_type": "markdown",
   "id": "9e1efa20-5155-43a1-84a6-44d92f3ca4c8",
   "metadata": {},
   "source": [
    "Q.3\n",
    "\n",
    "A group of friends have decided to start a secret society. The name will be the first letter of each of their names, sorted in alphabetical order.\n",
    "Create a function that takes in a list of names and returns the name of the secret society.\n"
   ]
  },
  {
   "cell_type": "code",
   "execution_count": 4,
   "id": "616f4e48-67aa-4e30-a9dd-20f078764529",
   "metadata": {},
   "outputs": [
    {
     "name": "stdin",
     "output_type": "stream",
     "text": [
      "Enter the no of members :  4\n",
      "Enter name 1 :  nitin\n",
      "Enter name 2 :  krishna\n",
      "Enter name 3 :  love\n",
      "Enter name 4 :  puttar\n"
     ]
    }
   ],
   "source": [
    "n = int(input('Enter the no of members : '))\n",
    "names = []\n",
    "for i in range(n):\n",
    "    name = input('Enter name {} : '.format(i+1))\n",
    "    names.append(name)\n",
    "def secret_society(names):\n",
    "    s = \"\"\n",
    "    for i in names:\n",
    "        s = s + i[0]\n",
    "    print(s)"
   ]
  },
  {
   "cell_type": "code",
   "execution_count": 5,
   "id": "dea70aeb-0704-49e1-bb2d-8dd166902262",
   "metadata": {},
   "outputs": [
    {
     "name": "stdout",
     "output_type": "stream",
     "text": [
      "nklp\n"
     ]
    }
   ],
   "source": [
    "secret_society(names)"
   ]
  },
  {
   "cell_type": "markdown",
   "id": "fa810157-d140-47bf-864d-cbe715f43d35",
   "metadata": {},
   "source": [
    "Q.4\n",
    "\n",
    "An isogram is a word that has no duplicate letters. Create a function that takes a string and returns either True or False depending on whether or not it's an \"isogram\"."
   ]
  },
  {
   "cell_type": "code",
   "execution_count": 8,
   "id": "36c8cdc7-bc6e-4ebd-b6c6-1008dc383ce9",
   "metadata": {},
   "outputs": [
    {
     "name": "stdin",
     "output_type": "stream",
     "text": [
      "Enter a word : abcd\n"
     ]
    }
   ],
   "source": [
    "d = input('Enter a word :')\n",
    "def isogam_check(d):\n",
    "    for i in d:\n",
    "        flag = True\n",
    "        count = 0\n",
    "        for j in d:\n",
    "            if i == j:\n",
    "                count+=1\n",
    "        if count > 1:\n",
    "            flag = False\n",
    "            return \"No, it is not an isogram\"\n",
    "    return 'Yes, it is an isogram'"
   ]
  },
  {
   "cell_type": "code",
   "execution_count": 9,
   "id": "d4c02782-a468-4b47-9721-5dcacf58b3c0",
   "metadata": {},
   "outputs": [
    {
     "data": {
      "text/plain": [
       "'Yes, it is an isogram'"
      ]
     },
     "execution_count": 9,
     "metadata": {},
     "output_type": "execute_result"
    }
   ],
   "source": [
    "isogam_check(d)"
   ]
  },
  {
   "cell_type": "markdown",
   "id": "a67ccc38-e712-4f0a-bb76-43be73e5763e",
   "metadata": {},
   "source": [
    "Q.5\n",
    "\n",
    "Create a function that takes a string and returns True or False, depending on whether the characters are in order or not."
   ]
  },
  {
   "cell_type": "code",
   "execution_count": 1,
   "id": "66d7400e-9cff-4e9c-ad8f-e69ecc607020",
   "metadata": {},
   "outputs": [
    {
     "name": "stdin",
     "output_type": "stream",
     "text": [
      "Enter a string :  nitin\n"
     ]
    }
   ],
   "source": [
    "d = input('Enter a string : ')\n",
    "def order_check(d):\n",
    "    check = sorted(d)\n",
    "    sec = []\n",
    "    for i in d:\n",
    "        sec.append(i)\n",
    "    if sec == check:\n",
    "        print('ordered')\n",
    "    else:\n",
    "        print('not ordered')\n",
    "        "
   ]
  },
  {
   "cell_type": "code",
   "execution_count": 2,
   "id": "fe02fa35-b71c-43d3-8d45-f0352f8e76d1",
   "metadata": {},
   "outputs": [
    {
     "name": "stdout",
     "output_type": "stream",
     "text": [
      "not ordered\n"
     ]
    }
   ],
   "source": [
    "order_check(d)"
   ]
  }
 ],
 "metadata": {
  "kernelspec": {
   "display_name": "Python 3 (ipykernel)",
   "language": "python",
   "name": "python3"
  },
  "language_info": {
   "codemirror_mode": {
    "name": "ipython",
    "version": 3
   },
   "file_extension": ".py",
   "mimetype": "text/x-python",
   "name": "python",
   "nbconvert_exporter": "python",
   "pygments_lexer": "ipython3",
   "version": "3.10.6"
  }
 },
 "nbformat": 4,
 "nbformat_minor": 5
}
