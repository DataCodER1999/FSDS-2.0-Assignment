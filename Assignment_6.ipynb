{
 "cells": [
  {
   "cell_type": "markdown",
   "id": "baab2202",
   "metadata": {},
   "source": [
    "1. What are escape characters, and how do you use them?"
   ]
  },
  {
   "cell_type": "code",
   "execution_count": null,
   "id": "12538d14",
   "metadata": {},
   "outputs": [],
   "source": [
    "\n",
    "Escape characters are special characters used in string literals to represent certain non-printable or special characters. They are used to include characters that would otherwise be difficult or impossible to type directly into a string. Escape characters are denoted by a backslash (\\) followed by a specific character or sequence.\n",
    "\n",
    "Here are some commonly used escape characters:\n",
    "\n",
    "\\\\: Backslash itself\n",
    "\\': Single quote\n",
    "\\\": Double quote\n",
    "\\n: Newline (line break)\n",
    "\\t: Tab\n",
    "\\r: Carriage return\n",
    "\\b: Backspace\n",
    "\\f: Form feed (used for page breaks)\n",
    "\\uXXXX: Unicode character (where XXXX is the hexadecimal code point)\n",
    "\\xXX: ASCII character (where XX is the hexadecimal code)"
   ]
  },
  {
   "cell_type": "code",
   "execution_count": 1,
   "id": "08d7df2f",
   "metadata": {},
   "outputs": [
    {
     "name": "stdout",
     "output_type": "stream",
     "text": [
      "He said, \"Hello!\"\n"
     ]
    }
   ],
   "source": [
    "print(\"He said, \\\"Hello!\\\"\")\n"
   ]
  },
  {
   "cell_type": "markdown",
   "id": "40a1634b",
   "metadata": {},
   "source": [
    "2. What do the escape characters n and t stand for?"
   ]
  },
  {
   "cell_type": "code",
   "execution_count": 3,
   "id": "5bf1245f",
   "metadata": {},
   "outputs": [],
   "source": [
    "#Ans - escape character [n] stands for line change and escape character [t] stands for tab space"
   ]
  },
  {
   "cell_type": "code",
   "execution_count": 5,
   "id": "f9826e3d",
   "metadata": {},
   "outputs": [
    {
     "name": "stdout",
     "output_type": "stream",
     "text": [
      "This is \n",
      " going to \t be fun\n"
     ]
    }
   ],
   "source": [
    "print(\"This is \\n going to \\t be fun\")"
   ]
  },
  {
   "cell_type": "markdown",
   "id": "bfc9e593",
   "metadata": {},
   "source": [
    "3. What is the way to include backslash characters in a string?"
   ]
  },
  {
   "cell_type": "code",
   "execution_count": 7,
   "id": "92028d4d",
   "metadata": {},
   "outputs": [
    {
     "name": "stdout",
     "output_type": "stream",
     "text": [
      "Hello Wor\\ld\n"
     ]
    }
   ],
   "source": [
    "print(\"Hello Wor\\\\ld\")"
   ]
  },
  {
   "cell_type": "markdown",
   "id": "24edfd7a",
   "metadata": {},
   "source": [
    "4. The string \"Howl's Moving Castle\" is a correct value. Why isn't the single quote character in the word Howl's not escaped a problem?"
   ]
  },
  {
   "cell_type": "code",
   "execution_count": 10,
   "id": "139f1d08",
   "metadata": {},
   "outputs": [
    {
     "name": "stdout",
     "output_type": "stream",
     "text": [
      "How's Moving Castle\n"
     ]
    }
   ],
   "source": [
    "print(\"How\\'s Moving Castle\")"
   ]
  },
  {
   "cell_type": "markdown",
   "id": "888782a2",
   "metadata": {},
   "source": [
    "5. How do you write a string of newlines if you don't want to use the n character?"
   ]
  },
  {
   "cell_type": "code",
   "execution_count": 12,
   "id": "b9e2135c",
   "metadata": {},
   "outputs": [
    {
     "name": "stdout",
     "output_type": "stream",
     "text": [
      "Hello\n",
      "World\n"
     ]
    }
   ],
   "source": [
    "print(\"Hello\")\n",
    "print(\"World\")"
   ]
  },
  {
   "cell_type": "code",
   "execution_count": null,
   "id": "fb5cd1e5",
   "metadata": {},
   "outputs": [],
   "source": [
    "6. What are the values of the given expressions?\n",
    "'Hello, world!'[1]\n",
    "'Hello, world!'[0:5]\n",
    "'Hello, world!'[:5]\n",
    "'Hello, world!'[3:]\n"
   ]
  },
  {
   "cell_type": "code",
   "execution_count": 14,
   "id": "ab8f222b",
   "metadata": {},
   "outputs": [
    {
     "name": "stdout",
     "output_type": "stream",
     "text": [
      "e\n",
      "Hello\n",
      "Hello\n",
      "lo, world!\n"
     ]
    }
   ],
   "source": [
    "print('Hello, world!'[1])\n",
    "print('Hello, world!'[0:5])\n",
    "print('Hello, world!'[:5])\n",
    "print('Hello, world!'[3:])"
   ]
  },
  {
   "cell_type": "markdown",
   "id": "0eda0825",
   "metadata": {},
   "source": [
    "7. What are the values of the following expressions?\n",
    "'Hello'.upper()\n",
    "'Hello'.upper().isupper()\n",
    "'Hello'.upper().lower()\n"
   ]
  },
  {
   "cell_type": "code",
   "execution_count": 15,
   "id": "a3876576",
   "metadata": {},
   "outputs": [
    {
     "name": "stdout",
     "output_type": "stream",
     "text": [
      "HELLO\n",
      "True\n",
      "hello\n"
     ]
    }
   ],
   "source": [
    "print('Hello'.upper())\n",
    "print('Hello'.upper().isupper())\n",
    "print('Hello'.upper().lower())"
   ]
  },
  {
   "cell_type": "markdown",
   "id": "2aecc961",
   "metadata": {},
   "source": [
    "8. What are the values of the following expressions?\n",
    "'Remember, remember, the fifth of July.'.split()\n",
    "'-'.join('There can only one.'.split())\n"
   ]
  },
  {
   "cell_type": "code",
   "execution_count": 16,
   "id": "823c225b",
   "metadata": {},
   "outputs": [
    {
     "data": {
      "text/plain": [
       "['Remember,', 'remember,', 'the', 'fifth', 'of', 'July.']"
      ]
     },
     "execution_count": 16,
     "metadata": {},
     "output_type": "execute_result"
    }
   ],
   "source": [
    "'Remember, remember, the fifth of July.'.split()"
   ]
  },
  {
   "cell_type": "code",
   "execution_count": 17,
   "id": "dfee5b6d",
   "metadata": {},
   "outputs": [
    {
     "data": {
      "text/plain": [
       "'There-can-only-one.'"
      ]
     },
     "execution_count": 17,
     "metadata": {},
     "output_type": "execute_result"
    }
   ],
   "source": [
    "'-'.join('There can only one.'.split())"
   ]
  },
  {
   "cell_type": "markdown",
   "id": "2a457f4e",
   "metadata": {},
   "source": [
    "9. What are the methods for right-justifying, left-justifying, and centering a string?"
   ]
  },
  {
   "cell_type": "code",
   "execution_count": 19,
   "id": "eb66e1ee",
   "metadata": {},
   "outputs": [
    {
     "name": "stdout",
     "output_type": "stream",
     "text": [
      "     Hello\n"
     ]
    }
   ],
   "source": [
    "text = \"Hello\"\n",
    "right_justified = text.rjust(10)\n",
    "print(right_justified)\n"
   ]
  },
  {
   "cell_type": "code",
   "execution_count": 21,
   "id": "16fa975c",
   "metadata": {},
   "outputs": [
    {
     "name": "stdout",
     "output_type": "stream",
     "text": [
      "Hello     \n"
     ]
    }
   ],
   "source": [
    "text = \"Hello\"\n",
    "left_justified = text.ljust(10)\n",
    "print(left_justified)\n"
   ]
  },
  {
   "cell_type": "code",
   "execution_count": 23,
   "id": "12c9ba10",
   "metadata": {},
   "outputs": [
    {
     "name": "stdout",
     "output_type": "stream",
     "text": [
      "  Hello   \n"
     ]
    }
   ],
   "source": [
    "text = \"Hello\"\n",
    "centered = text.center(10)\n",
    "print(centered)\n"
   ]
  },
  {
   "cell_type": "markdown",
   "id": "788091aa",
   "metadata": {},
   "source": [
    "10. What is the best way to remove whitespace characters from the start or end?"
   ]
  },
  {
   "cell_type": "code",
   "execution_count": 24,
   "id": "d357e45d",
   "metadata": {},
   "outputs": [
    {
     "name": "stdout",
     "output_type": "stream",
     "text": [
      "hello world\n"
     ]
    }
   ],
   "source": [
    "# Ans - we can use strip funcion\n",
    "l = \"  hello world            \"\n",
    "print(l.strip())"
   ]
  }
 ],
 "metadata": {
  "kernelspec": {
   "display_name": "Python 3 (ipykernel)",
   "language": "python",
   "name": "python3"
  },
  "language_info": {
   "codemirror_mode": {
    "name": "ipython",
    "version": 3
   },
   "file_extension": ".py",
   "mimetype": "text/x-python",
   "name": "python",
   "nbconvert_exporter": "python",
   "pygments_lexer": "ipython3",
   "version": "3.10.9"
  }
 },
 "nbformat": 4,
 "nbformat_minor": 5
}
