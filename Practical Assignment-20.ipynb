{
 "cells": [
  {
   "cell_type": "markdown",
   "id": "e8891cf9-c140-432b-b185-a2e7d896fef2",
   "metadata": {},
   "source": [
    "Q.1 \n",
    "\n",
    "Create a function that takes a list of strings and integers, and filters out the list so that it returns a list of integers only."
   ]
  },
  {
   "cell_type": "code",
   "execution_count": 1,
   "id": "1324a81e-fb6c-47ff-b836-8f35ea02d02e",
   "metadata": {},
   "outputs": [],
   "source": [
    "def integer_only(l):\n",
    "    k = []\n",
    "    for i in l:\n",
    "        if type(i) == int:\n",
    "            k.append(i)\n",
    "    return k"
   ]
  },
  {
   "cell_type": "code",
   "execution_count": 3,
   "id": "ae473fc4-43cf-4c95-aeea-fe29fe2454c0",
   "metadata": {},
   "outputs": [
    {
     "data": {
      "text/plain": [
       "[1, 2, 3, 4]"
      ]
     },
     "execution_count": 3,
     "metadata": {},
     "output_type": "execute_result"
    }
   ],
   "source": [
    "l = [1,2,3,4,'name']\n",
    "integer_only(l)"
   ]
  },
  {
   "cell_type": "markdown",
   "id": "99fa700f-2ab8-4a6d-9159-c8814f975391",
   "metadata": {},
   "source": [
    "Q.2\n",
    "\n",
    "Given a list of numbers, create a function which returns the list but with each element's index in the list added to itself. This means you add 0 to the number at index 0, add 1 to the number at index 1, etc..."
   ]
  },
  {
   "cell_type": "code",
   "execution_count": 8,
   "id": "cc1c5bf4-a8ff-48ae-911d-05a513b11682",
   "metadata": {},
   "outputs": [],
   "source": [
    "def added_list(l):\n",
    "    k = []\n",
    "    for i in enumerate(l):\n",
    "        k.append(i[0] + i[1])\n",
    "    return k"
   ]
  },
  {
   "cell_type": "code",
   "execution_count": 10,
   "id": "2eaaab00-f13c-49dc-b972-7f9fec237c88",
   "metadata": {},
   "outputs": [
    {
     "data": {
      "text/plain": [
       "[10, 21, 32, 43, 54]"
      ]
     },
     "execution_count": 10,
     "metadata": {},
     "output_type": "execute_result"
    }
   ],
   "source": [
    "l = [10,20,30,40,50]\n",
    "added_list(l)"
   ]
  },
  {
   "cell_type": "markdown",
   "id": "20713f56-b5ac-4c64-80b1-5c53a46c70f4",
   "metadata": {},
   "source": [
    "Q.3 \n",
    "\n",
    "Create a function that takes the height and radius of a cone as arguments and returns the volume of the cone rounded to the nearest hundredth. See the resources tab for the formula."
   ]
  },
  {
   "cell_type": "code",
   "execution_count": 14,
   "id": "f37d14b0-8591-4bea-a38c-a026dcf2869b",
   "metadata": {},
   "outputs": [],
   "source": [
    "def cone_volume(height,radius):\n",
    "    return (1/3)*3.14*radius*radius*height"
   ]
  },
  {
   "cell_type": "code",
   "execution_count": 16,
   "id": "6d9aed70-50ce-4e11-bf6f-6be172d77fd1",
   "metadata": {},
   "outputs": [
    {
     "data": {
      "text/plain": [
       "24198.933333333334"
      ]
     },
     "execution_count": 16,
     "metadata": {},
     "output_type": "execute_result"
    }
   ],
   "source": [
    "cone_volume(20,34)"
   ]
  },
  {
   "cell_type": "markdown",
   "id": "645ffc0f-0b72-4889-943e-d60408a37414",
   "metadata": {},
   "source": [
    "Q.4\n",
    "\n",
    "\n",
    "This Triangular Number Sequence is generated from a pattern of dots that form a triangle. The first 5 numbers of the sequence, or dots, are: \n",
    "1, 3, 6, 10, 15\n",
    "This means that the first triangle has just one dot, the second one has three dots, the third one has 6 dots and so on.\n",
    "Write a function that gives the number of dots with its corresponding triangle number of the sequence.\n"
   ]
  },
  {
   "cell_type": "code",
   "execution_count": 23,
   "id": "bc6d1aa0-a5f2-42fa-b737-02ed5ad1583c",
   "metadata": {},
   "outputs": [],
   "source": [
    "def no_of_dots(num):\n",
    "    for i in range(num+1):\n",
    "        sum = 0\n",
    "        for j in range(1,i+1):\n",
    "            sum+=j\n",
    "        print(\"The total no of dots in triangle no {} is -> {}\".format(i,sum))\n",
    "                "
   ]
  },
  {
   "cell_type": "code",
   "execution_count": 25,
   "id": "5b000548-f4cb-48d2-9010-45c2b8708269",
   "metadata": {},
   "outputs": [
    {
     "name": "stdout",
     "output_type": "stream",
     "text": [
      "The total no of dots in triangle no 0 is -> 0\n",
      "The total no of dots in triangle no 1 is -> 1\n",
      "The total no of dots in triangle no 2 is -> 3\n",
      "The total no of dots in triangle no 3 is -> 6\n",
      "The total no of dots in triangle no 4 is -> 10\n",
      "The total no of dots in triangle no 5 is -> 15\n",
      "The total no of dots in triangle no 6 is -> 21\n",
      "The total no of dots in triangle no 7 is -> 28\n",
      "The total no of dots in triangle no 8 is -> 36\n",
      "The total no of dots in triangle no 9 is -> 45\n",
      "The total no of dots in triangle no 10 is -> 55\n"
     ]
    }
   ],
   "source": [
    "no_of_dots(10)"
   ]
  },
  {
   "cell_type": "markdown",
   "id": "dcf9d1ed-3d34-4b72-b45e-bb945ebc086b",
   "metadata": {},
   "source": [
    "Q.5\n",
    "\n",
    "Create a function that takes a list of numbers between 1 and 10 (excluding one number) and returns the missing number."
   ]
  },
  {
   "cell_type": "code",
   "execution_count": 18,
   "id": "145b3caa-537a-48e9-9afd-368c85f86bb6",
   "metadata": {},
   "outputs": [],
   "source": [
    "def missing_no(l):\n",
    "    for i in range(1,11):\n",
    "        if i not in l:\n",
    "            return 'missing no is {}'.format(i)"
   ]
  },
  {
   "cell_type": "code",
   "execution_count": 19,
   "id": "cb93f74e-d9a1-435a-8ec6-87d170e1b580",
   "metadata": {},
   "outputs": [
    {
     "data": {
      "text/plain": [
       "'missing no is 6'"
      ]
     },
     "execution_count": 19,
     "metadata": {},
     "output_type": "execute_result"
    }
   ],
   "source": [
    "l = [1,2,3,4,5,7,8,9,10]\n",
    "missing_no(l)"
   ]
  }
 ],
 "metadata": {
  "kernelspec": {
   "display_name": "Python 3 (ipykernel)",
   "language": "python",
   "name": "python3"
  },
  "language_info": {
   "codemirror_mode": {
    "name": "ipython",
    "version": 3
   },
   "file_extension": ".py",
   "mimetype": "text/x-python",
   "name": "python",
   "nbconvert_exporter": "python",
   "pygments_lexer": "ipython3",
   "version": "3.10.6"
  }
 },
 "nbformat": 4,
 "nbformat_minor": 5
}
