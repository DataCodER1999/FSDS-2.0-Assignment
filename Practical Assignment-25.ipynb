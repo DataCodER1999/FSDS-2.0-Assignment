{
 "cells": [
  {
   "cell_type": "markdown",
   "id": "0abb33f1-dc2a-43d4-9498-b9e6336a88aa",
   "metadata": {},
   "source": [
    "Q.1\n",
    "\n",
    "Create a function that takes three integer arguments (a, b, c) and returns the amount of integers which are of equal value."
   ]
  },
  {
   "cell_type": "code",
   "execution_count": 2,
   "id": "219715f6-1987-4dde-8273-2049e64d4fa5",
   "metadata": {},
   "outputs": [],
   "source": [
    "def count(a,b,c):\n",
    "    if a == b == c:\n",
    "        return \"3\"\n",
    "    elif (a == b or a == c) or (b == a or b == c) or (c == a or c == b):\n",
    "        return \"2\"\n",
    "    else:\n",
    "        return \"None of the value is equal\"\n",
    "        "
   ]
  },
  {
   "cell_type": "code",
   "execution_count": 6,
   "id": "bc2bcf9a-2023-44a8-9859-e9a898dcc486",
   "metadata": {},
   "outputs": [
    {
     "data": {
      "text/plain": [
       "'3'"
      ]
     },
     "execution_count": 6,
     "metadata": {},
     "output_type": "execute_result"
    }
   ],
   "source": [
    "count(3,3,3)"
   ]
  },
  {
   "cell_type": "markdown",
   "id": "6b9a9ea7-3bce-4543-8058-d7ae0afc39e6",
   "metadata": {},
   "source": [
    "Q.2 \n",
    "\n",
    "Write a function that converts a dictionary into a list of keys-values tuples."
   ]
  },
  {
   "cell_type": "code",
   "execution_count": 22,
   "id": "f2c75fbc-2a4d-459f-b1fb-c58995b65bcd",
   "metadata": {},
   "outputs": [],
   "source": [
    "d = {'a' : 'first','b' :'second','c' : 'third','d': 'fourth' }\n",
    "def conversion(d):\n",
    "    lst = []\n",
    "    for i in d.items():\n",
    "        lst.append(i)\n",
    "    return lst"
   ]
  },
  {
   "cell_type": "code",
   "execution_count": 23,
   "id": "dfd37432-14c4-4362-9dc0-7766659309da",
   "metadata": {},
   "outputs": [
    {
     "data": {
      "text/plain": [
       "[('a', 'first'), ('b', 'second'), ('c', 'third'), ('d', 'fourth')]"
      ]
     },
     "execution_count": 23,
     "metadata": {},
     "output_type": "execute_result"
    }
   ],
   "source": [
    "conversion(d)"
   ]
  },
  {
   "cell_type": "markdown",
   "id": "4a8d9520-ab68-441a-baee-92645c2101ae",
   "metadata": {},
   "source": [
    "Q.3\n",
    "\n",
    "Write a function that creates a dictionary with each (key, value) pair being the (lower case, upper case) versions of a letter, respectively."
   ]
  },
  {
   "cell_type": "code",
   "execution_count": 20,
   "id": "a98e3ba0-3489-4730-aa96-1abec0f24876",
   "metadata": {},
   "outputs": [],
   "source": [
    "l = ['a','b','c','d','e','f']\n",
    "def upper_lower(l):\n",
    "    d = {}\n",
    "    for i in range(len(l)):\n",
    "        d.update({l[i].lower():l[i].upper()})\n",
    "    return d"
   ]
  },
  {
   "cell_type": "code",
   "execution_count": 21,
   "id": "211e7fb3-11f1-4eba-8331-d0fb9bc1062e",
   "metadata": {},
   "outputs": [
    {
     "data": {
      "text/plain": [
       "{'a': 'A', 'b': 'B', 'c': 'C', 'd': 'D', 'e': 'E', 'f': 'F'}"
      ]
     },
     "execution_count": 21,
     "metadata": {},
     "output_type": "execute_result"
    }
   ],
   "source": [
    "upper_lower(l)"
   ]
  },
  {
   "cell_type": "markdown",
   "id": "53aefa7e-79eb-4920-af0a-51285f9cb41e",
   "metadata": {},
   "source": [
    "Q.4 \n",
    "\n",
    "Write a function, that replaces all vowels in a string with a specified vowel"
   ]
  },
  {
   "cell_type": "code",
   "execution_count": 55,
   "id": "c8c088f3-e0e1-45e2-823d-36184ace75a2",
   "metadata": {},
   "outputs": [],
   "source": [
    "str='banana'\n",
    "def replacement(str):\n",
    "    vw = 'aAeEiIoOuU'\n",
    "    for i in range(len(str)):\n",
    "        if str[i] in vw:\n",
    "            \n",
    "            str = str.replace(str[i],'u')\n",
    "    d = str        \n",
    "    print(d)"
   ]
  },
  {
   "cell_type": "code",
   "execution_count": 56,
   "id": "fc114b09-6031-468e-99b3-ca8ad04b8acf",
   "metadata": {},
   "outputs": [
    {
     "name": "stdout",
     "output_type": "stream",
     "text": [
      "bununu\n"
     ]
    }
   ],
   "source": [
    "replacement(str)"
   ]
  },
  {
   "cell_type": "markdown",
   "id": "418f63fb-5cd7-4506-8e3b-6cd360aa0389",
   "metadata": {},
   "source": [
    "Q.5\n",
    "\n",
    "Create a function that takes a string as input and capitalizes a letter if its ASCII code is even and returns its lower case version if its ASCII code is odd."
   ]
  },
  {
   "cell_type": "code",
   "execution_count": 53,
   "id": "f770c94f-4308-44ad-8c9c-c53ad42234a3",
   "metadata": {},
   "outputs": [],
   "source": [
    "str = \"THE LITTLE MERMAID\"\n",
    "def enev_odd(str):\n",
    "    a = str\n",
    "    t=\"\"\n",
    "    for i in range(len(str)):\n",
    "        \n",
    "        if ord(a[i])%2 == 0:\n",
    "            t = t + (a[i].upper())\n",
    "        else:\n",
    "            t = t + (a[i].lower())\n",
    "    return t"
   ]
  },
  {
   "cell_type": "code",
   "execution_count": 54,
   "id": "7a2c22e1-1623-4d8f-8a20-b724439529c7",
   "metadata": {},
   "outputs": [
    {
     "data": {
      "text/plain": [
       "'THe LiTTLe meRmaiD'"
      ]
     },
     "execution_count": 54,
     "metadata": {},
     "output_type": "execute_result"
    }
   ],
   "source": [
    "enev_odd(str)"
   ]
  },
  {
   "cell_type": "code",
   "execution_count": null,
   "id": "d300a3aa-d73d-40bb-984c-a7c4a6f9fa94",
   "metadata": {},
   "outputs": [],
   "source": []
  }
 ],
 "metadata": {
  "kernelspec": {
   "display_name": "Python 3 (ipykernel)",
   "language": "python",
   "name": "python3"
  },
  "language_info": {
   "codemirror_mode": {
    "name": "ipython",
    "version": 3
   },
   "file_extension": ".py",
   "mimetype": "text/x-python",
   "name": "python",
   "nbconvert_exporter": "python",
   "pygments_lexer": "ipython3",
   "version": "3.10.6"
  }
 },
 "nbformat": 4,
 "nbformat_minor": 5
}
