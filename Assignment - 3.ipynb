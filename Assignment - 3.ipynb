{
 "cells": [
  {
   "cell_type": "markdown",
   "id": "ecf772a5",
   "metadata": {},
   "source": [
    "1. Why are functions advantageous to have in your programs?"
   ]
  },
  {
   "cell_type": "markdown",
   "id": "bb4d4fac",
   "metadata": {},
   "source": [
    "ANS -> \n",
    "\n",
    "1. Supports modular coding\n",
    "2. Follows DRY(Do Not Repeat Yourself) principle\n",
    "3. Gives an ease of coding as one not need to write the same code again and again\n",
    "4. It helps to divide the large programs into small groups so that we can read the code and debug the program faster and better\n",
    "5. For different instances this code can be used for eg  ->   taking data from people regarding admission in a college "
   ]
  },
  {
   "cell_type": "markdown",
   "id": "373ef738",
   "metadata": {},
   "source": []
  },
  {
   "cell_type": "markdown",
   "id": "880d9a2f",
   "metadata": {},
   "source": [
    "2. When does the code in a function run: when it's specified or when it's called?"
   ]
  },
  {
   "cell_type": "markdown",
   "id": "f7cc0a99",
   "metadata": {},
   "source": [
    "ANS - > \n",
    "\n",
    "A code in a function will run when the function will be called"
   ]
  },
  {
   "cell_type": "markdown",
   "id": "7b8b918e",
   "metadata": {},
   "source": []
  },
  {
   "cell_type": "markdown",
   "id": "6f7d9544",
   "metadata": {},
   "source": [
    "3. What statement creates a function?"
   ]
  },
  {
   "cell_type": "markdown",
   "id": "055afdef",
   "metadata": {},
   "source": [
    "ANS -> def s the keyword with the help of which we can create a fucntion"
   ]
  },
  {
   "cell_type": "markdown",
   "id": "21b6fe0b",
   "metadata": {},
   "source": []
  },
  {
   "cell_type": "markdown",
   "id": "ecb21afd",
   "metadata": {},
   "source": [
    "4. What is the difference between a function and a function call?"
   ]
  },
  {
   "cell_type": "markdown",
   "id": "851c5669",
   "metadata": {},
   "source": [
    "ANS -> Function simply means declared version of code that is with the help of def keyword we will create a function and inside a function we will declare the set of code which is going to be executed that is function declaration\n",
    "\n",
    "\n",
    "but by function call we mean that we want to execute the code of the function and for that inside our program we will have to give a function call which will execute the code\n",
    "\n",
    "eg -> \n",
    "\n",
    "def krisha():\n",
    "    print('krishna bhakti is the best thing in this world , HARE KRISHNA!')     -> this is a function or we can say it as                                                                                          function declaration\n",
    "    \n",
    "krishna()  -> this is function call"
   ]
  },
  {
   "cell_type": "markdown",
   "id": "c8a6b480",
   "metadata": {},
   "source": []
  },
  {
   "cell_type": "markdown",
   "id": "f15f7969",
   "metadata": {},
   "source": [
    "5. How many global scopes are there in a Python program? How many local scopes?"
   ]
  },
  {
   "cell_type": "markdown",
   "id": "1cf3555a",
   "metadata": {},
   "source": [
    "ANS -> \n",
    "\n",
    "In a Python program, there is only one global scope. The global scope is created when the program starts, and it contains all of the variables that are defined at the top level of the program which ca be used anywhere \n",
    "\n",
    "\n",
    "but there can be many local scopes because variables you create within a function are only available within the function or any sort of block that represent local scopes so within a programme there can be many local scopes"
   ]
  },
  {
   "cell_type": "markdown",
   "id": "6ec9442e",
   "metadata": {},
   "source": []
  },
  {
   "cell_type": "markdown",
   "id": "1441e38e",
   "metadata": {},
   "source": [
    "6. What happens to variables in a local scope when the function call returns?"
   ]
  },
  {
   "cell_type": "markdown",
   "id": "abfda0fc",
   "metadata": {},
   "source": [
    "ANS -> \n",
    "\n",
    "the lifespan of a variable is within the function only so within a memory as the function destroys the variable after returning the value gets destroyed within the memory\n"
   ]
  },
  {
   "cell_type": "markdown",
   "id": "fa76a9a0",
   "metadata": {},
   "source": []
  },
  {
   "cell_type": "markdown",
   "id": "b51f15ad",
   "metadata": {},
   "source": [
    "7. What is the concept of a return value? Is it possible to have a return value in an expression?"
   ]
  },
  {
   "cell_type": "markdown",
   "id": "b4760416",
   "metadata": {},
   "source": [
    "ANS -> within a function if I want my function to return something then we use return statement. So as soon as the return statement is encountered within a function the the execution of our function stops and and our function return a value. To store the return value we assign the function to a variable.\n",
    "\n",
    "Yes, it is possible to have a return statement in an expression     for eg  -> code of fibonacci series"
   ]
  },
  {
   "cell_type": "markdown",
   "id": "6d14c840",
   "metadata": {},
   "source": []
  },
  {
   "cell_type": "markdown",
   "id": "b12549f8",
   "metadata": {},
   "source": [
    "8. If a function does not have a return statement, what is the return value of a call to that function?"
   ]
  },
  {
   "cell_type": "markdown",
   "id": "ded15581",
   "metadata": {},
   "source": [
    "ANS -> \n",
    "If a  function doesn't have a return statement it returns NONE"
   ]
  },
  {
   "cell_type": "markdown",
   "id": "8d3857a2",
   "metadata": {},
   "source": []
  },
  {
   "cell_type": "markdown",
   "id": "7a6f564f",
   "metadata": {},
   "source": [
    "9. How do you make a function variable refer to the global variable?"
   ]
  },
  {
   "cell_type": "markdown",
   "id": "d3b9f989",
   "metadata": {},
   "source": [
    "ANS -> \n",
    "\n",
    "if we want to consider a fucntion variable as a global variable then we use global keyword to declare a variable global inside a function \n",
    "\n",
    "for eg ->\n",
    "a = 5\n",
    "def nitin():\n",
    "    global a\n",
    "    a = 6\n",
    "print(a) -> the value of a is 5\n",
    "nitin()\n",
    "print(a) -> the value of a now  is 6 "
   ]
  },
  {
   "cell_type": "markdown",
   "id": "a7bd5d4a",
   "metadata": {},
   "source": []
  },
  {
   "cell_type": "markdown",
   "id": "3c29f3c0",
   "metadata": {},
   "source": [
    "10. What is the data type of None?"
   ]
  },
  {
   "cell_type": "code",
   "execution_count": 1,
   "id": "9d049dcf",
   "metadata": {},
   "outputs": [
    {
     "data": {
      "text/plain": [
       "NoneType"
      ]
     },
     "execution_count": 1,
     "metadata": {},
     "output_type": "execute_result"
    }
   ],
   "source": [
    "# ANS\n",
    "a = None\n",
    "type(a)"
   ]
  },
  {
   "cell_type": "markdown",
   "id": "c00bee72",
   "metadata": {},
   "source": [
    "ANS -> so the type of NONE is NoneType"
   ]
  },
  {
   "cell_type": "markdown",
   "id": "0c049339",
   "metadata": {},
   "source": []
  },
  {
   "cell_type": "markdown",
   "id": "29524b32",
   "metadata": {},
   "source": [
    "11. What does the sentence import areallyourpetsnamederic do?"
   ]
  },
  {
   "cell_type": "markdown",
   "id": "bdb67467",
   "metadata": {},
   "source": [
    "ANS -> if any module by the name areallyourpetsnamederic exists then import will bring the module here in our program but if not exist then we will get ModuleNotFound Error"
   ]
  },
  {
   "cell_type": "markdown",
   "id": "80e78950",
   "metadata": {},
   "source": []
  },
  {
   "cell_type": "markdown",
   "id": "54afe982",
   "metadata": {},
   "source": [
    "12. If you had a bacon() feature in a spam module, what would you call it after importing spam?"
   ]
  },
  {
   "cell_type": "markdown",
   "id": "1efb10de",
   "metadata": {},
   "source": [
    "ANS -> after importing spam to use bacon() feature we will use the following code \n",
    "\n",
    "import spam\n",
    "spam.bacon()"
   ]
  },
  {
   "cell_type": "markdown",
   "id": "ce46f897",
   "metadata": {},
   "source": []
  },
  {
   "cell_type": "markdown",
   "id": "6e5bd38b",
   "metadata": {},
   "source": [
    "13. What can you do to save a programme from crashing if it encounters an error?"
   ]
  },
  {
   "cell_type": "markdown",
   "id": "96910a65",
   "metadata": {},
   "source": [
    "ANS -> We can use Exception Handling in our program to save a programme from crashing if it encounters an error"
   ]
  },
  {
   "cell_type": "markdown",
   "id": "a31fac14",
   "metadata": {},
   "source": []
  },
  {
   "cell_type": "markdown",
   "id": "7b639db5",
   "metadata": {},
   "source": [
    "14. What is the purpose of the try clause? What is the purpose of the except clause?"
   ]
  },
  {
   "cell_type": "markdown",
   "id": "a1d9288a",
   "metadata": {},
   "source": [
    "AND -> \n",
    "\n",
    "try,except are used to perform exception handling in our program\n",
    "\n",
    "-> if our code looks suspicious and it can give error at runtime then that code we put in try block and in the code inside try block if any error occurs then to maintain the flow of our program we pass the controlflow to the except block and the code written on the except block runs and thus the code does not crashes "
   ]
  }
 ],
 "metadata": {
  "kernelspec": {
   "display_name": "Python 3 (ipykernel)",
   "language": "python",
   "name": "python3"
  },
  "language_info": {
   "codemirror_mode": {
    "name": "ipython",
    "version": 3
   },
   "file_extension": ".py",
   "mimetype": "text/x-python",
   "name": "python",
   "nbconvert_exporter": "python",
   "pygments_lexer": "ipython3",
   "version": "3.9.13"
  }
 },
 "nbformat": 4,
 "nbformat_minor": 5
}
