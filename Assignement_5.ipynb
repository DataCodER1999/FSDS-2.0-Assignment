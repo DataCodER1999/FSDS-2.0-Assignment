{
 "cells": [
  {
   "cell_type": "markdown",
   "id": "92dfb69c",
   "metadata": {},
   "source": [
    "1. What does an empty dictionary's code look like?"
   ]
  },
  {
   "cell_type": "code",
   "execution_count": 2,
   "id": "33284df0",
   "metadata": {},
   "outputs": [
    {
     "name": "stdout",
     "output_type": "stream",
     "text": [
      "<class 'dict'>\n"
     ]
    }
   ],
   "source": [
    "# Ans - \n",
    "d = {}\n",
    "print(type(d))"
   ]
  },
  {
   "cell_type": "markdown",
   "id": "509f7f3a",
   "metadata": {},
   "source": [
    "2. What is the value of a dictionary value with the key 'foo' and the value 42?"
   ]
  },
  {
   "cell_type": "code",
   "execution_count": 4,
   "id": "63b2b177",
   "metadata": {},
   "outputs": [
    {
     "name": "stdout",
     "output_type": "stream",
     "text": [
      "42\n"
     ]
    }
   ],
   "source": [
    "d = {'foo':42}\n",
    "print(d['foo'])"
   ]
  },
  {
   "cell_type": "markdown",
   "id": "3884aeba",
   "metadata": {},
   "source": [
    "3. What is the most significant distinction between a dictionary and a list?"
   ]
  },
  {
   "cell_type": "code",
   "execution_count": 6,
   "id": "96634c46",
   "metadata": {},
   "outputs": [],
   "source": [
    "#Ans -> List is a container which simply is used to store values of different types . Lists are ordered so\n",
    "# they can be indexed . Dictionaries are containers to store values in key value pairs . Dictionaries are \n",
    "# unordered and are unordered so they can't be indexed , to access any value we use keys"
   ]
  },
  {
   "cell_type": "markdown",
   "id": "09852811",
   "metadata": {},
   "source": [
    "4. What happens if you try to access spam['foo'] if spam is {'bar': 100}?"
   ]
  },
  {
   "cell_type": "code",
   "execution_count": 8,
   "id": "424bd428",
   "metadata": {},
   "outputs": [
    {
     "ename": "KeyError",
     "evalue": "'foo'",
     "output_type": "error",
     "traceback": [
      "\u001b[1;31m---------------------------------------------------------------------------\u001b[0m",
      "\u001b[1;31mKeyError\u001b[0m                                  Traceback (most recent call last)",
      "Cell \u001b[1;32mIn[8], line 2\u001b[0m\n\u001b[0;32m      1\u001b[0m spam \u001b[38;5;241m=\u001b[39m {\u001b[38;5;124m'\u001b[39m\u001b[38;5;124mbar\u001b[39m\u001b[38;5;124m'\u001b[39m:\u001b[38;5;241m100\u001b[39m}\n\u001b[1;32m----> 2\u001b[0m \u001b[38;5;28mprint\u001b[39m(\u001b[43mspam\u001b[49m\u001b[43m[\u001b[49m\u001b[38;5;124;43m'\u001b[39;49m\u001b[38;5;124;43mfoo\u001b[39;49m\u001b[38;5;124;43m'\u001b[39;49m\u001b[43m]\u001b[49m)\n",
      "\u001b[1;31mKeyError\u001b[0m: 'foo'"
     ]
    }
   ],
   "source": [
    "spam = {'bar':100}\n",
    "print(spam['foo'])"
   ]
  },
  {
   "cell_type": "code",
   "execution_count": 10,
   "id": "2b85df2a",
   "metadata": {},
   "outputs": [],
   "source": [
    "# this gives key error as we are trying to access that key that doesn't exist in the dictionary"
   ]
  },
  {
   "cell_type": "markdown",
   "id": "8111d482",
   "metadata": {},
   "source": [
    "5. If a dictionary is stored in spam, what is the difference between the expressions 'cat' in spam and 'cat' in spam.keys()?"
   ]
  },
  {
   "cell_type": "code",
   "execution_count": 11,
   "id": "4c11abb3",
   "metadata": {},
   "outputs": [
    {
     "name": "stdout",
     "output_type": "stream",
     "text": [
      "True\n",
      "True\n"
     ]
    }
   ],
   "source": [
    "# There is no difference as such , both are same by default any operation in dictionary takes place on \n",
    "# keys only \n",
    "\n",
    "d = {'cat':10,'dog':20}\n",
    "print('cat' in d)\n",
    "print('cat' in d.keys())"
   ]
  },
  {
   "cell_type": "markdown",
   "id": "a59686cf",
   "metadata": {},
   "source": [
    "6. If a dictionary is stored in spam, what is the difference between the expressions 'cat' in spam and 'cat' in spam.values()?"
   ]
  },
  {
   "cell_type": "code",
   "execution_count": 12,
   "id": "a2995897",
   "metadata": {},
   "outputs": [],
   "source": [
    "# Now comes a differnce which is  - 'cat' in spam means that it will check 'cat' in keys where as 'cat' in \n",
    "# values means that 'cat' is getting checked in values of dictionay"
   ]
  },
  {
   "cell_type": "code",
   "execution_count": 13,
   "id": "f5766ec8",
   "metadata": {},
   "outputs": [
    {
     "name": "stdout",
     "output_type": "stream",
     "text": [
      "True\n",
      "False\n"
     ]
    }
   ],
   "source": [
    "print('cat' in d)\n",
    "print('cat' in d.values())"
   ]
  },
  {
   "cell_type": "markdown",
   "id": "6f1b23ed",
   "metadata": {},
   "source": [
    "7. What is a shortcut for the following code?\n",
    "if 'color' not in spam:\n",
    "spam['color'] = 'black'\n"
   ]
  },
  {
   "cell_type": "code",
   "execution_count": 15,
   "id": "ef777781",
   "metadata": {},
   "outputs": [
    {
     "data": {
      "text/plain": [
       "'black'"
      ]
     },
     "execution_count": 15,
     "metadata": {},
     "output_type": "execute_result"
    }
   ],
   "source": [
    "spam.setdefault('color', 'black')\n"
   ]
  },
  {
   "cell_type": "markdown",
   "id": "f5f5bad0",
   "metadata": {},
   "source": [
    "8. How do you \"pretty print\" dictionary values using which module and function?"
   ]
  },
  {
   "cell_type": "code",
   "execution_count": 17,
   "id": "bd062aae",
   "metadata": {},
   "outputs": [
    {
     "name": "stdout",
     "output_type": "stream",
     "text": [
      "{'bar': 100, 'color': 'black'}\n"
     ]
    }
   ],
   "source": [
    "import pprint as pp\n",
    "pp.pprint(spam)"
   ]
  }
 ],
 "metadata": {
  "kernelspec": {
   "display_name": "Python 3 (ipykernel)",
   "language": "python",
   "name": "python3"
  },
  "language_info": {
   "codemirror_mode": {
    "name": "ipython",
    "version": 3
   },
   "file_extension": ".py",
   "mimetype": "text/x-python",
   "name": "python",
   "nbconvert_exporter": "python",
   "pygments_lexer": "ipython3",
   "version": "3.10.9"
  }
 },
 "nbformat": 4,
 "nbformat_minor": 5
}
