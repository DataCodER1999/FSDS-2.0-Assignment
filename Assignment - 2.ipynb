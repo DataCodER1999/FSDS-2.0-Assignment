{
 "cells": [
  {
   "cell_type": "markdown",
   "id": "855f8e7d",
   "metadata": {},
   "source": [
    "1.What are the two values of the Boolean data type? How do you write them?"
   ]
  },
  {
   "cell_type": "markdown",
   "id": "f73acbab",
   "metadata": {},
   "source": [
    "ANS -> The two values of boolean are  - True and False"
   ]
  },
  {
   "cell_type": "markdown",
   "id": "589b2934",
   "metadata": {},
   "source": []
  },
  {
   "cell_type": "markdown",
   "id": "0a5b6518",
   "metadata": {},
   "source": [
    "2. What are the three different types of Boolean operators?"
   ]
  },
  {
   "cell_type": "markdown",
   "id": "7f0e7697",
   "metadata": {},
   "source": [
    "ANS -> The three different types of boolean operators are \n",
    "  \n",
    "  1.) and \n",
    "  2.) or\n",
    "  3.) not"
   ]
  },
  {
   "cell_type": "markdown",
   "id": "3f7bdd8e",
   "metadata": {},
   "source": []
  },
  {
   "cell_type": "markdown",
   "id": "02338ca3",
   "metadata": {},
   "source": [
    "3. Make a list of each Boolean operator's truth tables (i.e. every possible combination of Boolean values for the operator and what it evaluate )."
   ]
  },
  {
   "cell_type": "markdown",
   "id": "9b3c20e1",
   "metadata": {},
   "source": [
    "ANS - 1.)  x  y  r\n",
    "           0  0  0\n",
    "           1  0  0\n",
    "           0  1  0\n",
    "           1  1  1   -> this is the truth table for AND operator\n",
    "           \n",
    "      2.)  x  y  r\n",
    "           0  0  0\n",
    "           1  0  1\n",
    "           0  1  1\n",
    "           1  1  1  -> this is the truth table for OR operator\n",
    "      \n",
    "      3.)  x  r\n",
    "           0  1\n",
    "           1  0 -> this is the truth table for NOT operator"
   ]
  },
  {
   "cell_type": "markdown",
   "id": "de1b13ab",
   "metadata": {},
   "source": []
  },
  {
   "cell_type": "markdown",
   "id": "55b36153",
   "metadata": {},
   "source": [
    "4. What are the values of the following expressions?\n",
    "(5 > 4) and (3 == 5)\n",
    "not (5 > 4)\n",
    "(5 > 4) or (3 == 5)\n",
    "not ((5 > 4) or (3 == 5))\n",
    "(True and True) and (True == False)\n",
    "(not False) or (not True)\n"
   ]
  },
  {
   "cell_type": "markdown",
   "id": "3339640f",
   "metadata": {},
   "source": [
    "ANS ->  1. False\n",
    "        2. False\n",
    "        3. True\n",
    "        4. False\n",
    "        5. False\n",
    "        6. True"
   ]
  },
  {
   "cell_type": "markdown",
   "id": "e19b343c",
   "metadata": {},
   "source": []
  },
  {
   "cell_type": "markdown",
   "id": "f04bdc4a",
   "metadata": {},
   "source": [
    "5. What are the six comparison operators?"
   ]
  },
  {
   "cell_type": "markdown",
   "id": "348530c7",
   "metadata": {},
   "source": [
    "ANS -> 1. Less than (<)\n",
    "       2. Greater than (>)\n",
    "       3. Less than or equal to (<=)\n",
    "       4. Greater than or equal to (>=)\n",
    "       5. Equal to (==)\n",
    "       6. Not equal to (!=)"
   ]
  },
  {
   "cell_type": "code",
   "execution_count": null,
   "id": "9f9a6369",
   "metadata": {},
   "outputs": [],
   "source": []
  },
  {
   "cell_type": "markdown",
   "id": "3e2e55a1",
   "metadata": {},
   "source": [
    "6. How do you tell the difference between the equal to and assignment operators?Describe a condition and when you would use one."
   ]
  },
  {
   "cell_type": "markdown",
   "id": "1db376a2",
   "metadata": {},
   "source": [
    "ANS ->  Equal to operator is (==) -> this is used to check whether LHS value is equal to RHS value\n",
    "        Assignment operator is (=) -> this is used to assign RHS value to the LHS variable\n",
    "        \n",
    "        \n",
    "        eg ->  1.)  if 4 == 3:\n",
    "                        print('both the values are equal')\n",
    "                    else:\n",
    "                        print('both the values are not equal') -> so in the if statement is is checking whether the value 4 is                       equal to value 3 or not\n",
    "               \n",
    "               2.) a = 5 -> this is an example of assignment operator where we simply assign the value 5 to the variable a"
   ]
  },
  {
   "cell_type": "markdown",
   "id": "5571b37b",
   "metadata": {},
   "source": []
  },
  {
   "cell_type": "markdown",
   "id": "135fd6a1",
   "metadata": {},
   "source": [
    "7. Identify the three blocks in this code:\n",
    "spam = 0\n",
    "if spam == 10:\n",
    "print('eggs')\n",
    "if spam > 5:\n",
    "print('bacon')\n",
    "else:\n",
    "print('ham')\n",
    "print('spam')\n",
    "print('spam')"
   ]
  },
  {
   "cell_type": "markdown",
   "id": "ee4f27a8",
   "metadata": {},
   "source": [
    "ANS -> \n",
    "\n",
    "print('ham')\n",
    "print('spam')\n",
    "print('spam') -> these three blocks of code will be executed "
   ]
  },
  {
   "cell_type": "markdown",
   "id": "7e33898d",
   "metadata": {},
   "source": []
  },
  {
   "cell_type": "markdown",
   "id": "de7c6cc6",
   "metadata": {},
   "source": [
    "8. Write code that prints Hello if 1 is stored in spam, prints Howdy if 2 is stored in spam, and prints Greetings! if anything else is stored in spam."
   ]
  },
  {
   "cell_type": "code",
   "execution_count": null,
   "id": "460fb858",
   "metadata": {},
   "outputs": [],
   "source": [
    "# ANS\n",
    "spam  = int(input('Please enter an integer value : '))\n",
    "if spam == 1:\n",
    "    print('Hello')\n",
    "elif spam == 2:\n",
    "    print('Howdy')\n",
    "else:\n",
    "    print('Greetings!')"
   ]
  },
  {
   "cell_type": "markdown",
   "id": "f271718a",
   "metadata": {},
   "source": []
  },
  {
   "cell_type": "markdown",
   "id": "506593a2",
   "metadata": {},
   "source": [
    "9.If your programme is stuck in an endless loop, what keys you’ll press?"
   ]
  },
  {
   "cell_type": "code",
   "execution_count": null,
   "id": "f7b5eef2",
   "metadata": {},
   "outputs": [],
   "source": [
    "ANS -> ctrl + z is the keyboard key combiantion that will terminate the endless loop"
   ]
  },
  {
   "cell_type": "markdown",
   "id": "98ba5457",
   "metadata": {},
   "source": []
  },
  {
   "cell_type": "markdown",
   "id": "5497b4b4",
   "metadata": {},
   "source": [
    "10. How can you tell the difference between break and continue?"
   ]
  },
  {
   "cell_type": "markdown",
   "id": "75926eb2",
   "metadata": {},
   "source": [
    "ANS -> break statement is used to come out of the entire loop where as continue statement is used to skip the current iteration\n",
    "\n",
    "eg -> for i in range(1,20):\n",
    "          print(i)\n",
    "          if i == 5:\n",
    "              break       -> so as the value of i will become 5 the out execution of code wil come out of the loop and it will print numbers 1,2,3,4\n",
    "          \n",
    "      for i in range(1,20):\n",
    "          print(i)\n",
    "          if i == 5:\n",
    "              continue    -> so as the value of i becomae 5 it will skip the current iteration and move to the next iteration \n",
    "                           the numbers printed will bw 1,2,3,4,6,7,8,9,10,11,12,13,14,15,16,17,18,19"
   ]
  },
  {
   "cell_type": "markdown",
   "id": "a50ff319",
   "metadata": {},
   "source": []
  },
  {
   "cell_type": "markdown",
   "id": "cb46ed8d",
   "metadata": {},
   "source": [
    "11. In a for loop, what is the difference between range(10), range(0, 10), and range(0, 10, 1)?"
   ]
  },
  {
   "cell_type": "markdown",
   "id": "dd5c8c1c",
   "metadata": {},
   "source": [
    "ANS -> All the three ranges in for loops ar same and all the range will give same result"
   ]
  },
  {
   "cell_type": "markdown",
   "id": "1bde9c7a",
   "metadata": {},
   "source": []
  },
  {
   "cell_type": "markdown",
   "id": "a15bec68",
   "metadata": {},
   "source": [
    "12. Write a short program that prints the numbers 1 to 10 using a for loop. Then write an equivalent program that prints the numbers 1 to 10 using a while loop."
   ]
  },
  {
   "cell_type": "code",
   "execution_count": 1,
   "id": "07c02a5c",
   "metadata": {},
   "outputs": [
    {
     "name": "stdout",
     "output_type": "stream",
     "text": [
      "1  2  3  4  5  6  7  8  9  10  "
     ]
    }
   ],
   "source": [
    "# ANS -> using for loop\n",
    "\n",
    "for i in range(1,11):\n",
    "    print(i,end = \"  \")"
   ]
  },
  {
   "cell_type": "code",
   "execution_count": 3,
   "id": "c40cba9e",
   "metadata": {},
   "outputs": [
    {
     "name": "stdout",
     "output_type": "stream",
     "text": [
      "1  2  3  4  5  6  7  8  9  10  "
     ]
    }
   ],
   "source": [
    "# ANS -> using while loop\n",
    "\n",
    "i = 1\n",
    "while i<11:\n",
    "    print(i,end=\"  \")\n",
    "    i+=1"
   ]
  },
  {
   "cell_type": "markdown",
   "id": "594c6320",
   "metadata": {},
   "source": []
  },
  {
   "cell_type": "markdown",
   "id": "f4245a87",
   "metadata": {},
   "source": [
    "13. If you had a function named bacon() inside a module named spam, how would you call it after importing spam?"
   ]
  },
  {
   "cell_type": "markdown",
   "id": "aa719b29",
   "metadata": {},
   "source": [
    "ANS -> \n",
    "\n",
    "import spam\n",
    "spam.bacon() -> this is how we can call the function bacon of the module spam"
   ]
  }
 ],
 "metadata": {
  "kernelspec": {
   "display_name": "Python 3 (ipykernel)",
   "language": "python",
   "name": "python3"
  },
  "language_info": {
   "codemirror_mode": {
    "name": "ipython",
    "version": 3
   },
   "file_extension": ".py",
   "mimetype": "text/x-python",
   "name": "python",
   "nbconvert_exporter": "python",
   "pygments_lexer": "ipython3",
   "version": "3.9.13"
  }
 },
 "nbformat": 4,
 "nbformat_minor": 5
}
