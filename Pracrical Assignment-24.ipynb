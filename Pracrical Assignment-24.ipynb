{
 "cells": [
  {
   "cell_type": "markdown",
   "id": "ecfecaa9-1cf0-4ce7-b884-98afc14a15c2",
   "metadata": {},
   "source": [
    "Q.1\n",
    "\n",
    "Create a function that takes an integer and returns a list from 1 to the given number, where:\n",
    "1.\tIf the number can be divided evenly by 4, amplify it by 10 (i.e. return 10 times the number).\n",
    "2.\tIf the number cannot be divided evenly by 4, simply return the number\n"
   ]
  },
  {
   "cell_type": "code",
   "execution_count": 2,
   "id": "709ea3a7-8f75-48cf-8151-df0f883571e8",
   "metadata": {},
   "outputs": [],
   "source": [
    "l = [1,2,3,4,5,6,7,8,9,10,11,12,13,14,15,16]\n",
    "def amplify(l):\n",
    "    k = []\n",
    "    for i in l:\n",
    "        if i%4 == 0:\n",
    "            k.append(i*10)\n",
    "        else:\n",
    "            k.append(i)\n",
    "    return k"
   ]
  },
  {
   "cell_type": "code",
   "execution_count": 4,
   "id": "93891da5-4638-486b-93de-8440e5a0fa8a",
   "metadata": {},
   "outputs": [
    {
     "data": {
      "text/plain": [
       "[1, 2, 3, 40, 5, 6, 7, 80, 9, 10, 11, 120, 13, 14, 15, 160]"
      ]
     },
     "execution_count": 4,
     "metadata": {},
     "output_type": "execute_result"
    }
   ],
   "source": [
    "amplify(l)"
   ]
  },
  {
   "cell_type": "markdown",
   "id": "c4031104-688d-4bc7-9aa8-9b61c9cd76cb",
   "metadata": {},
   "source": [
    "Q.2 \n",
    "\n",
    "Create a function that takes a list of numbers and return the number that's unique"
   ]
  },
  {
   "cell_type": "code",
   "execution_count": 22,
   "id": "f1df12d4-a462-4dc6-b954-acf86c6a13d7",
   "metadata": {},
   "outputs": [],
   "source": [
    "l = [1,2,3,4,1,2,3,4,5,6]\n",
    "j = [0, 0, 0.77, 0, 0]\n",
    "def unique_elements(l):\n",
    "    df = []\n",
    "    for i in l:\n",
    "        count=0\n",
    "        for k in l:\n",
    "            if i == k:\n",
    "                count+=1\n",
    "        if count == 1:\n",
    "            df.append(i)\n",
    "    return df"
   ]
  },
  {
   "cell_type": "code",
   "execution_count": 20,
   "id": "7dd730f5-589b-462a-8927-ca48d56a5477",
   "metadata": {},
   "outputs": [
    {
     "data": {
      "text/plain": [
       "[5, 6]"
      ]
     },
     "execution_count": 20,
     "metadata": {},
     "output_type": "execute_result"
    }
   ],
   "source": [
    "unique_elements(l)"
   ]
  },
  {
   "cell_type": "code",
   "execution_count": 24,
   "id": "9f91734d-5a52-43d0-a379-fb9e1c3df12b",
   "metadata": {},
   "outputs": [
    {
     "data": {
      "text/plain": [
       "[0.77]"
      ]
     },
     "execution_count": 24,
     "metadata": {},
     "output_type": "execute_result"
    }
   ],
   "source": [
    "unique_elements(j)"
   ]
  },
  {
   "cell_type": "markdown",
   "id": "1908a3f3-d3fc-4ed8-a103-6fd2c2d63321",
   "metadata": {},
   "source": [
    "Q.3 Your task is to create a Circle constructor that creates a circle with a radius provided by an argument. The circles constructed must have two getters getArea() (PIr^2) and getPerimeter() (2PI*r) which give both respective areas and perimeter (circumference)."
   ]
  },
  {
   "cell_type": "code",
   "execution_count": 25,
   "id": "d6174a72-340b-4bf1-9427-5ce4b9dee2c2",
   "metadata": {},
   "outputs": [],
   "source": [
    "class Circle:\n",
    "    \n",
    "    def __init__(self,radius):\n",
    "        self.radius = radius\n",
    "    \n",
    "    def getArea(self):\n",
    "        return 3.14 * self.radius * self.radius\n",
    "    \n",
    "    def getPerimeter(self):\n",
    "        return 2 * 3.14 * self.radius"
   ]
  },
  {
   "cell_type": "code",
   "execution_count": 28,
   "id": "119d22f1-eb53-408e-bbd3-cf9341ecf756",
   "metadata": {},
   "outputs": [
    {
     "data": {
      "text/plain": [
       "61.90070400000001"
      ]
     },
     "execution_count": 28,
     "metadata": {},
     "output_type": "execute_result"
    }
   ],
   "source": [
    "ad = Circle(4.44)\n",
    "ad.getArea()"
   ]
  },
  {
   "cell_type": "code",
   "execution_count": 30,
   "id": "c1f08ddb-f76c-4d7c-bc53-ceaf11613c44",
   "metadata": {},
   "outputs": [
    {
     "data": {
      "text/plain": [
       "27.883200000000002"
      ]
     },
     "execution_count": 30,
     "metadata": {},
     "output_type": "execute_result"
    }
   ],
   "source": [
    "ad.getPerimeter()"
   ]
  },
  {
   "cell_type": "markdown",
   "id": "60219ae8-bd43-42c2-95db-88e2fde26014",
   "metadata": {},
   "source": [
    "Q.4 \n",
    "\n",
    "Create a function that takes a list of strings and return a list, sorted from shortest to longest."
   ]
  },
  {
   "cell_type": "code",
   "execution_count": 53,
   "id": "b4347199-33a5-4cb9-867d-648d6adf845f",
   "metadata": {},
   "outputs": [],
   "source": [
    "l = ([\"Google\", \"Apple\", \"Microsoft\"])\n",
    "def sort_string_list(l):\n",
    "    d = {}\n",
    "    for i in range(len(l)):\n",
    "        c = len(l[i])\n",
    "        d.update({l[i] : c})\n",
    "    d = {k: v for k, v in sorted(d.items(), key=lambda item: item[1])}\n",
    "    s = []\n",
    "    for i in d.keys():\n",
    "        s.append(i)\n",
    "    return s"
   ]
  },
  {
   "cell_type": "code",
   "execution_count": 55,
   "id": "d4a2bda7-20d2-4abc-ac87-82850a355416",
   "metadata": {},
   "outputs": [
    {
     "data": {
      "text/plain": [
       "['Apple', 'Google', 'Microsoft']"
      ]
     },
     "execution_count": 55,
     "metadata": {},
     "output_type": "execute_result"
    }
   ],
   "source": [
    "sort_string_list(l)"
   ]
  },
  {
   "cell_type": "markdown",
   "id": "c220c055-dce7-4b0e-b46d-46b3317c04bd",
   "metadata": {},
   "source": [
    "Q.5\n",
    "\n",
    "Create a function that validates whether three given integers form a Pythagorean triplet. The sum of the squares of the two smallest integers must equal the square of the largest number to be validated."
   ]
  },
  {
   "cell_type": "code",
   "execution_count": 58,
   "id": "6982849f-80b9-492c-b091-9b9e074737b0",
   "metadata": {},
   "outputs": [],
   "source": [
    "l = [3,4,5]\n",
    "def pythagorean_triplet(l):\n",
    "    for i in range(len(l)):\n",
    "        if l[0]**2 + l[1]**2 == l[2]**2:\n",
    "            return 'Yes, it is a pythagorean_triplet'\n",
    "        else:\n",
    "            return 'No,it is not a pythagorean triplet'"
   ]
  },
  {
   "cell_type": "code",
   "execution_count": 59,
   "id": "83109ace-6342-4e39-9e63-439973212177",
   "metadata": {},
   "outputs": [
    {
     "data": {
      "text/plain": [
       "'Yes, it is a pythagorean_triplet'"
      ]
     },
     "execution_count": 59,
     "metadata": {},
     "output_type": "execute_result"
    }
   ],
   "source": [
    "pythagorean_triplet(l)"
   ]
  }
 ],
 "metadata": {
  "kernelspec": {
   "display_name": "Python 3 (ipykernel)",
   "language": "python",
   "name": "python3"
  },
  "language_info": {
   "codemirror_mode": {
    "name": "ipython",
    "version": 3
   },
   "file_extension": ".py",
   "mimetype": "text/x-python",
   "name": "python",
   "nbconvert_exporter": "python",
   "pygments_lexer": "ipython3",
   "version": "3.10.6"
  }
 },
 "nbformat": 4,
 "nbformat_minor": 5
}
