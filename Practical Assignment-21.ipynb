{
 "cells": [
  {
   "cell_type": "markdown",
   "id": "069bf488-b3ad-4cb7-9975-c9b84152fd2a",
   "metadata": {},
   "source": [
    "Question1\n",
    "\n",
    "Write a function that takes a list and a number as arguments. Add the number to the end of the list, then remove the first element of the list. The function should then return the updated list.\n"
   ]
  },
  {
   "cell_type": "code",
   "execution_count": 38,
   "id": "e6255a0f-ff31-4c8c-b550-24a4b6f8bf15",
   "metadata": {},
   "outputs": [],
   "source": [
    "l = [1,2,3,4,5,6]\n",
    "def updated_list(l,a):\n",
    "    l.append(a)\n",
    "    l.pop(0)\n",
    "    return l"
   ]
  },
  {
   "cell_type": "code",
   "execution_count": 39,
   "id": "04ae20b7-44b4-441f-942e-60b7eaec6576",
   "metadata": {},
   "outputs": [
    {
     "data": {
      "text/plain": [
       "[2, 3, 4, 5, 6, 90]"
      ]
     },
     "execution_count": 39,
     "metadata": {},
     "output_type": "execute_result"
    }
   ],
   "source": [
    "updated_list(l,90)"
   ]
  },
  {
   "cell_type": "markdown",
   "id": "2f2d104d-87fb-4f7e-b8f9-5802a9cbbe82",
   "metadata": {},
   "source": [
    "Q.2\n",
    "\n",
    "Create the function that takes a list of dictionaries and returns the sum of people's budgets."
   ]
  },
  {
   "cell_type": "code",
   "execution_count": 9,
   "id": "f522e967-fc6e-40fa-8c4c-107f168466f2",
   "metadata": {},
   "outputs": [],
   "source": [
    "def budgets(l):\n",
    "    sum=0\n",
    "    for i in l:\n",
    "        sum += i[\"budget\"]\n",
    "    return(sum)"
   ]
  },
  {
   "cell_type": "code",
   "execution_count": 11,
   "id": "d2339dcd-3dd2-42cc-87e4-bce754b8de2d",
   "metadata": {},
   "outputs": [
    {
     "data": {
      "text/plain": [
       "65700"
      ]
     },
     "execution_count": 11,
     "metadata": {},
     "output_type": "execute_result"
    }
   ],
   "source": [
    "d = [\n",
    "  { \"name\": \"John\", \"age\": 21, \"budget\": 23000 },\n",
    "  { \"name\": \"Steve\",  \"age\": 32, \"budget\": 40000 },\n",
    "  { \"name\": \"Martin\",  \"age\": 16, \"budget\": 2700 }\n",
    "] \n",
    "\n",
    "budgets(d)"
   ]
  },
  {
   "cell_type": "markdown",
   "id": "64d70dcc-cef3-41e8-979a-ce52d13deecb",
   "metadata": {},
   "source": [
    "Q.3 \n",
    "\n",
    "Create a function that takes a string and returns a string with its letters in alphabetical order."
   ]
  },
  {
   "cell_type": "code",
   "execution_count": 20,
   "id": "f97ab594-e730-407b-a61b-edb2774c93a0",
   "metadata": {},
   "outputs": [],
   "source": [
    "def ordered(d):\n",
    "    a=sorted(d)\n",
    "    b = \"\".join(a)\n",
    "    print(b)"
   ]
  },
  {
   "cell_type": "code",
   "execution_count": 22,
   "id": "0b361164-a49f-4cfa-85c0-fd2a15da014a",
   "metadata": {},
   "outputs": [
    {
     "name": "stdout",
     "output_type": "stream",
     "text": [
      "ehllo\n"
     ]
    }
   ],
   "source": [
    "ordered('hello')"
   ]
  },
  {
   "cell_type": "markdown",
   "id": "d7bba075-364d-4c3f-b3ce-30883e0143e4",
   "metadata": {},
   "source": [
    "Q.4\n",
    "Suppose that you invest $10,000 for 10 years at an interest rate of 6% compounded monthly. What will be the value of your investment at the end of the 10 year period?\n",
    "Create a function that accepts the principal p, the term in years t, the interest rate r, and the number of compounding periods per year n. The function returns the value at the end of term rounded to the nearest cent.\n",
    "For the example above:\n",
    "compound_interest(10000, 10, 0.06, 12) ➞ 18193.97\n",
    "Note that the interest rate is given as a decimal and n=12 because with monthly compounding there are 12 periods per year. Compounding can also be done annually, quarterly, weekly, or daily.\n"
   ]
  },
  {
   "cell_type": "code",
   "execution_count": 48,
   "id": "11c2c934-1b53-4659-a675-5827cbd8eb1a",
   "metadata": {},
   "outputs": [],
   "source": [
    "def compound_interest(principal,years,rate,cmp_periods):\n",
    "    total_amount = principal * (1 + rate/cmp_periods)**(cmp_periods*years)\n",
    "    return total_amount"
   ]
  },
  {
   "cell_type": "code",
   "execution_count": 49,
   "id": "2341f267-673a-40c5-b1ea-21ece57b6c50",
   "metadata": {},
   "outputs": [
    {
     "data": {
      "text/plain": [
       "18193.9673403229"
      ]
     },
     "execution_count": 49,
     "metadata": {},
     "output_type": "execute_result"
    }
   ],
   "source": [
    "compound_interest(10000,10,0.06,12)"
   ]
  },
  {
   "cell_type": "markdown",
   "id": "2ee93241-cd64-4db0-ab52-7776d1f6dad2",
   "metadata": {},
   "source": [
    "Q.5\n",
    "\n",
    "\n",
    "Write a function that takes a list of elements and returns only the integers."
   ]
  },
  {
   "cell_type": "code",
   "execution_count": 24,
   "id": "dccc7c68-86ea-4ebb-a67e-0793cf148b8b",
   "metadata": {},
   "outputs": [],
   "source": [
    "def integer_only(l):\n",
    "    k = []\n",
    "    for i in l:\n",
    "        if type(i) == int:\n",
    "            k.append(i)\n",
    "    return k"
   ]
  },
  {
   "cell_type": "code",
   "execution_count": 26,
   "id": "917e2b36-4c31-4f94-943d-35f8114ce8ae",
   "metadata": {},
   "outputs": [
    {
     "data": {
      "text/plain": [
       "[1, 2]"
      ]
     },
     "execution_count": 26,
     "metadata": {},
     "output_type": "execute_result"
    }
   ],
   "source": [
    "l = [1,2,True,'name',[1,2,3,4]]\n",
    "integer_only(l)"
   ]
  }
 ],
 "metadata": {
  "kernelspec": {
   "display_name": "Python 3 (ipykernel)",
   "language": "python",
   "name": "python3"
  },
  "language_info": {
   "codemirror_mode": {
    "name": "ipython",
    "version": 3
   },
   "file_extension": ".py",
   "mimetype": "text/x-python",
   "name": "python",
   "nbconvert_exporter": "python",
   "pygments_lexer": "ipython3",
   "version": "3.10.6"
  }
 },
 "nbformat": 4,
 "nbformat_minor": 5
}
