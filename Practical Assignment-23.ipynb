{
 "cells": [
  {
   "cell_type": "markdown",
   "id": "bb5bac70-5a3f-4c95-b745-6a4503aebca4",
   "metadata": {},
   "source": [
    "Q.1\n",
    "\n",
    "Create a function that takes a number as an argument and returns True or False depending on whether the number is symmetrical or not. A number is symmetrical when it is the same as its reverse."
   ]
  },
  {
   "cell_type": "code",
   "execution_count": 2,
   "id": "12ae0b96-68b2-4846-8667-1c63a73b7b49",
   "metadata": {},
   "outputs": [
    {
     "name": "stdin",
     "output_type": "stream",
     "text": [
      "Enter a no. 1234321\n"
     ]
    }
   ],
   "source": [
    "num = input('Enter a no.')\n",
    "def symmetrical(a):\n",
    "    if a[::-1] == a:\n",
    "        return 'Yes, it is symmetrical'\n",
    "    else:\n",
    "        return 'No, it is not symmetrical'"
   ]
  },
  {
   "cell_type": "code",
   "execution_count": 4,
   "id": "e12c9a07-b89d-403d-b045-d9c860b65f98",
   "metadata": {},
   "outputs": [
    {
     "data": {
      "text/plain": [
       "'Yes, it is symmetrical'"
      ]
     },
     "execution_count": 4,
     "metadata": {},
     "output_type": "execute_result"
    }
   ],
   "source": [
    "symmetrical(num)"
   ]
  },
  {
   "cell_type": "markdown",
   "id": "42c93509-e562-45ad-803f-2de339fc4b24",
   "metadata": {},
   "source": [
    "Q.2 Given a string of numbers separated by a comma and space, return the product of the numbers."
   ]
  },
  {
   "cell_type": "code",
   "execution_count": null,
   "id": "3690abd6-d26d-4fe7-beb9-e7d888ba68f1",
   "metadata": {},
   "outputs": [],
   "source": [
    "str = \"1, 2, 3, 4\"\n",
    "def prod(str):\n",
    "    s = str.split(',')\n",
    "    num = 1\n",
    "    for i in s:\n",
    "        num = num * int(i)\n",
    "    return num"
   ]
  },
  {
   "cell_type": "code",
   "execution_count": 12,
   "id": "498f5447-a151-475f-8023-079e538cf998",
   "metadata": {},
   "outputs": [
    {
     "data": {
      "text/plain": [
       "24"
      ]
     },
     "execution_count": 12,
     "metadata": {},
     "output_type": "execute_result"
    }
   ],
   "source": [
    "prod(str)"
   ]
  },
  {
   "cell_type": "markdown",
   "id": "31d1eb6d-c902-49a2-9482-905e0e6f229e",
   "metadata": {},
   "source": [
    "Q.3 Create a function that squares every digit of a number"
   ]
  },
  {
   "cell_type": "code",
   "execution_count": 1,
   "id": "4061747e-f9d1-4bff-b1f3-3d00a9330b9a",
   "metadata": {},
   "outputs": [
    {
     "name": "stdin",
     "output_type": "stream",
     "text": [
      "Please enter a no. :  9119\n"
     ]
    }
   ],
   "source": [
    "l = int(input('Please enter a no. : '))\n",
    "def every_no(l):\n",
    "    no=[]\n",
    "    for i in str(l):\n",
    "        no.append(str(int(i)**2))\n",
    "    \n",
    "    return int(''.join(no))"
   ]
  },
  {
   "cell_type": "code",
   "execution_count": 2,
   "id": "143edf06-b581-4661-a0e9-236600269955",
   "metadata": {},
   "outputs": [
    {
     "data": {
      "text/plain": [
       "811181"
      ]
     },
     "execution_count": 2,
     "metadata": {},
     "output_type": "execute_result"
    }
   ],
   "source": [
    "every_no(l)"
   ]
  },
  {
   "cell_type": "markdown",
   "id": "950ccf60-5a84-41af-8445-1dcf4925ce63",
   "metadata": {},
   "source": [
    "Q.4 \n",
    "\n",
    "Create a function that sorts a list and removes all duplicate items from it"
   ]
  },
  {
   "cell_type": "code",
   "execution_count": 44,
   "id": "f3418fcf-e1ef-4645-a1b4-8d390238497c",
   "metadata": {},
   "outputs": [],
   "source": [
    "import pandas as pd\n",
    "def unique(l):\n",
    "    sr = pd.Series(l)\n",
    "    sr = sr.unique()\n",
    "    return sr"
   ]
  },
  {
   "cell_type": "code",
   "execution_count": 46,
   "id": "7b0f4e2d-2de7-4a4b-875a-1839621a4354",
   "metadata": {},
   "outputs": [
    {
     "data": {
      "text/plain": [
       "array([1, 3, 5])"
      ]
     },
     "execution_count": 46,
     "metadata": {},
     "output_type": "execute_result"
    }
   ],
   "source": [
    "l = [1,3,3,5,5]\n",
    "unique(l)"
   ]
  },
  {
   "cell_type": "markdown",
   "id": "39db9e9f-aa19-4d5b-9972-d7a2f423288c",
   "metadata": {},
   "source": [
    "Q.5 \n",
    "\n",
    "Create a function that returns the mean of all digits"
   ]
  },
  {
   "cell_type": "code",
   "execution_count": 55,
   "id": "25b0996d-c5fe-407e-8a99-20f54d008ecc",
   "metadata": {},
   "outputs": [
    {
     "name": "stdin",
     "output_type": "stream",
     "text": [
      "Enter a no: 12345\n"
     ]
    }
   ],
   "source": [
    "import numpy as np\n",
    "num = input('Enter a no:')\n",
    "def mean_of_digits(num):\n",
    "    num = [int(i) for i in num]\n",
    "    n = np.array(num)\n",
    "    return np.mean(n)"
   ]
  },
  {
   "cell_type": "code",
   "execution_count": 56,
   "id": "772d62bf-c662-4c29-9f38-29db334374c1",
   "metadata": {},
   "outputs": [
    {
     "data": {
      "text/plain": [
       "3.0"
      ]
     },
     "execution_count": 56,
     "metadata": {},
     "output_type": "execute_result"
    }
   ],
   "source": [
    "mean_of_digits(num)"
   ]
  }
 ],
 "metadata": {
  "kernelspec": {
   "display_name": "Python 3 (ipykernel)",
   "language": "python",
   "name": "python3"
  },
  "language_info": {
   "codemirror_mode": {
    "name": "ipython",
    "version": 3
   },
   "file_extension": ".py",
   "mimetype": "text/x-python",
   "name": "python",
   "nbconvert_exporter": "python",
   "pygments_lexer": "ipython3",
   "version": "3.10.6"
  }
 },
 "nbformat": 4,
 "nbformat_minor": 5
}
