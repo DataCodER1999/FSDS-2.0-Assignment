{
 "cells": [
  {
   "cell_type": "markdown",
   "id": "b0b348f7",
   "metadata": {},
   "source": [
    "1. What is the name of the feature responsible for generating Regex objects?"
   ]
  },
  {
   "cell_type": "markdown",
   "id": "b2ac7205",
   "metadata": {},
   "source": [
    "The feature responsible for generating Regex objects in Python is called the \"re\" module. The \"re\" module is a built-in module in Python that provides support for regular expressions. It allows you to create Regex objects, which can be used to perform pattern matching and various operations on strings, such as searching, replacing, and splitting based on patterns defined by regular expressions."
   ]
  },
  {
   "cell_type": "code",
   "execution_count": null,
   "id": "7ac54912",
   "metadata": {},
   "outputs": [],
   "source": []
  },
  {
   "cell_type": "markdown",
   "id": "4295b467",
   "metadata": {},
   "source": [
    "2. Why do raw strings often appear in Regex objects?"
   ]
  },
  {
   "cell_type": "markdown",
   "id": "751a8041",
   "metadata": {},
   "source": [
    "\n",
    "Raw strings are often used in Regex objects to avoid unwanted interpretation of escape sequences.\n",
    "\n",
    "In a raw string, escape sequences like \\n or \\t are treated as literal characters instead of their special meanings. This is particularly useful in regular expressions because they often contain backslashes and special characters that have special meanings in both Python string literals and regular expressions.\n",
    "\n",
    "For example, in a regular expression pattern, if you want to match a literal backslash character, you would need to escape it with another backslash (\\\\). However, in a regular string, the backslash would be interpreted as an escape character before it reaches the regular expression engine.\n",
    "\n",
    "By using a raw string, denoted by adding an r prefix before the string (r\"...\"), you can ensure that the regular expression pattern is interpreted as-is without any unintended escape character interpretation. This simplifies and improves the readability of regular expressions.\n",
    "\n",
    "In summary, raw strings are commonly used in Regex objects to avoid conflicts between Python's string literal escape sequences and the escape sequences used in regular expressions."
   ]
  },
  {
   "cell_type": "code",
   "execution_count": null,
   "id": "a605f0e3",
   "metadata": {},
   "outputs": [],
   "source": []
  },
  {
   "cell_type": "markdown",
   "id": "a3e5f055",
   "metadata": {},
   "source": [
    "3. What is the return value of the search() method?"
   ]
  },
  {
   "cell_type": "markdown",
   "id": "4a25a0c9",
   "metadata": {},
   "source": [
    "The search() method from the re module in Python returns a match object if a match is found, or None if no match is found.\n",
    "\n",
    "When you call the search() method on a regular expression object, it scans the given string from left to right and returns the first occurrence of a match. The match object contains information about the match, such as the matched substring, its start and end indices, and more."
   ]
  },
  {
   "cell_type": "code",
   "execution_count": 4,
   "id": "a081dfbb",
   "metadata": {},
   "outputs": [
    {
     "name": "stdout",
     "output_type": "stream",
     "text": [
      "Match found!\n"
     ]
    }
   ],
   "source": [
    "import re\n",
    "\n",
    "pattern = r\"apple\"\n",
    "text = \"I like to eat an apple every day.\"\n",
    "\n",
    "match = re.search(pattern, text)\n",
    "\n",
    "if match:\n",
    "    print(\"Match found!\")\n",
    "else:\n",
    "    print(\"No match found.\")\n"
   ]
  },
  {
   "cell_type": "code",
   "execution_count": null,
   "id": "f3297626",
   "metadata": {},
   "outputs": [],
   "source": []
  },
  {
   "cell_type": "markdown",
   "id": "356d1eda",
   "metadata": {},
   "source": [
    "4. From a Match item, how do you get the actual strings that match the pattern?"
   ]
  },
  {
   "cell_type": "markdown",
   "id": "1b68d84f",
   "metadata": {},
   "source": [
    "From a Match object in Python, you can retrieve the actual strings that match the pattern using the group() method.\n",
    "\n",
    "The group() method of a Match object returns the substring that was matched by the regular expression pattern. By default, calling group() without any arguments returns the entire match.\n",
    "\n",
    "Here's an example that demonstrates how to use group() to obtain the matching string:"
   ]
  },
  {
   "cell_type": "code",
   "execution_count": 5,
   "id": "e6237219",
   "metadata": {},
   "outputs": [
    {
     "name": "stdout",
     "output_type": "stream",
     "text": [
      "Match found: apple\n"
     ]
    }
   ],
   "source": [
    "import re\n",
    "\n",
    "pattern = r\"apple\"\n",
    "text = \"I like to eat an apple every day.\"\n",
    "\n",
    "match = re.search(pattern, text)\n",
    "\n",
    "if match:\n",
    "    matched_string = match.group()\n",
    "    print(\"Match found:\", matched_string)\n",
    "else:\n",
    "    print(\"No match found.\")\n"
   ]
  },
  {
   "cell_type": "code",
   "execution_count": null,
   "id": "68e9dec4",
   "metadata": {},
   "outputs": [],
   "source": []
  },
  {
   "cell_type": "markdown",
   "id": "d4d2a370",
   "metadata": {},
   "source": [
    "5. In the regex which created from the r'(\\d\\d\\d)-(\\d\\d\\d-\\d\\d\\d\\d)', what does group zero cover? Group 2? Group 1?"
   ]
  },
  {
   "cell_type": "markdown",
   "id": "8e2563d2",
   "metadata": {},
   "source": [
    "In the regular expression r'(\\d\\d\\d)-(\\d\\d\\d-\\d\\d\\d\\d)', the groups are denoted by the parentheses.\n",
    "\n",
    "Group 0 (zero) refers to the entire match of the regular expression pattern. It represents the portion of the string that matches the entire pattern.\n",
    "\n",
    "Group 1 refers to the first group captured by the regular expression, which is (\\d\\d\\d) in this case. It matches three consecutive digits.\n",
    "\n",
    "Group 2 refers to the second group captured by the regular expression, which is (\\d\\d\\d-\\d\\d\\d\\d) in this case. It matches three digits followed by a hyphen, and then four more digits.\n",
    "\n",
    "Here's an example that demonstrates how to access the groups using the group() method of a Match object:"
   ]
  },
  {
   "cell_type": "code",
   "execution_count": 7,
   "id": "40d69b5f",
   "metadata": {},
   "outputs": [
    {
     "name": "stdout",
     "output_type": "stream",
     "text": [
      "Group 0: 123-456-7890\n",
      "Group 1: 123\n",
      "Group 2: 456-7890\n"
     ]
    }
   ],
   "source": [
    "import re\n",
    "\n",
    "pattern = r'(\\d\\d\\d)-(\\d\\d\\d-\\d\\d\\d\\d)'\n",
    "text = 'Phone number: 123-456-7890'\n",
    "\n",
    "match = re.search(pattern, text)\n",
    "\n",
    "if match:\n",
    "    group_0 = match.group(0)\n",
    "    group_1 = match.group(1)\n",
    "    group_2 = match.group(2)\n",
    "\n",
    "    print(\"Group 0:\", group_0)\n",
    "    print(\"Group 1:\", group_1)\n",
    "    print(\"Group 2:\", group_2)\n",
    "else:\n",
    "    print(\"No match found.\")\n"
   ]
  },
  {
   "cell_type": "raw",
   "id": "5e961df3",
   "metadata": {},
   "source": []
  },
  {
   "cell_type": "markdown",
   "id": "51573137",
   "metadata": {},
   "source": [
    "6. In standard expression syntax, parentheses and intervals have distinct meanings. How can you tell a regex that you want it to fit real parentheses and periods?"
   ]
  },
  {
   "cell_type": "markdown",
   "id": "6dad5291",
   "metadata": {},
   "source": [
    "In regular expression syntax, parentheses and periods have special meanings and are used to define groups and match any character, respectively. To tell a regex that you want it to match literal parentheses and periods, you can use the backslash (\\) to escape those characters.\n",
    "\n",
    "To match a literal parentheses, you can use \\( to represent an opening parenthesis and \\) to represent a closing parenthesis.\n",
    "\n",
    "To match a literal period, you can use \\..\n",
    "\n",
    "Here's an example that demonstrates how to match literal parentheses and periods using escape characters:"
   ]
  },
  {
   "cell_type": "code",
   "execution_count": 9,
   "id": "39f5af8c",
   "metadata": {},
   "outputs": [
    {
     "name": "stdout",
     "output_type": "stream",
     "text": [
      "Match found: (Hello).\n"
     ]
    }
   ],
   "source": [
    "import re\n",
    "\n",
    "pattern = r'\\(Hello\\)\\.'\n",
    "text = \"(Hello). World.\"\n",
    "\n",
    "match = re.search(pattern, text)\n",
    "\n",
    "if match:\n",
    "    matched_string = match.group()\n",
    "    print(\"Match found:\", matched_string)\n",
    "else:\n",
    "    print(\"No match found.\")\n"
   ]
  },
  {
   "cell_type": "code",
   "execution_count": null,
   "id": "0e836999",
   "metadata": {},
   "outputs": [],
   "source": []
  },
  {
   "cell_type": "markdown",
   "id": "942242e3",
   "metadata": {},
   "source": [
    "7. The findall() method returns a string list or a list of string tuples. What causes it to return one of the two options?"
   ]
  },
  {
   "cell_type": "markdown",
   "id": "44684435",
   "metadata": {},
   "source": [
    "The findall() method from the re module in Python returns a list of strings or a list of string tuples depending on the presence of capturing groups in the regular expression pattern.\n",
    "\n",
    "When the regular expression pattern contains capturing groups (defined by parentheses), findall() returns a list of string tuples. Each tuple corresponds to a match, and each element of the tuple represents the matched substring captured by a specific group.\n",
    "\n",
    "On the other hand, when the regular expression pattern does not contain any capturing groups, findall() returns a list of strings. Each string in the list represents a non-overlapping match of the entire pattern.\n",
    "\n",
    "Here's an example that demonstrates the difference:"
   ]
  },
  {
   "cell_type": "code",
   "execution_count": 11,
   "id": "b4d7d04c",
   "metadata": {},
   "outputs": [
    {
     "name": "stdout",
     "output_type": "stream",
     "text": [
      "Matches with groups: [('01', '25'), ('12', '07'), ('08', '15')]\n",
      "Matches without groups: ['01-25', '12-07', '08-15']\n"
     ]
    }
   ],
   "source": [
    "import re\n",
    "\n",
    "pattern_with_groups = r'(\\d{2})-(\\d{2})'\n",
    "pattern_without_groups = r'\\d{2}-\\d{2}'\n",
    "\n",
    "text = 'Birthdays: 01-25, 12-07, 08-15'\n",
    "\n",
    "matches_with_groups = re.findall(pattern_with_groups, text)\n",
    "matches_without_groups = re.findall(pattern_without_groups, text)\n",
    "\n",
    "print(\"Matches with groups:\", matches_with_groups)\n",
    "print(\"Matches without groups:\", matches_without_groups)\n"
   ]
  },
  {
   "cell_type": "code",
   "execution_count": null,
   "id": "19951de8",
   "metadata": {},
   "outputs": [],
   "source": []
  },
  {
   "cell_type": "markdown",
   "id": "88545d57",
   "metadata": {},
   "source": [
    "8. In standard expressions, what does the | character mean?"
   ]
  },
  {
   "cell_type": "markdown",
   "id": "c24b7f0a",
   "metadata": {},
   "source": [
    "\n",
    "In regular expressions, the | character, called a pipe or vertical bar, represents the logical OR operator. It is used to specify multiple alternative patterns within a regular expression.\n",
    "\n",
    "The | character allows you to create a pattern that matches either the pattern on its left side or the pattern on its right side. It functions similar to the logical OR operator in programming languages.\n",
    "\n",
    "Here's an example that demonstrates the usage of the | character:"
   ]
  },
  {
   "cell_type": "code",
   "execution_count": 15,
   "id": "d34db47c",
   "metadata": {},
   "outputs": [
    {
     "name": "stdout",
     "output_type": "stream",
     "text": [
      "['cat', 'dog']\n"
     ]
    }
   ],
   "source": [
    "import re\n",
    "\n",
    "pattern = r\"cat|dog\"\n",
    "text = \"I have a cat and a dog.\"\n",
    "\n",
    "matches = re.findall(pattern, text)\n",
    "\n",
    "print(matches)\n"
   ]
  },
  {
   "cell_type": "code",
   "execution_count": null,
   "id": "58f82550",
   "metadata": {},
   "outputs": [],
   "source": []
  },
  {
   "cell_type": "markdown",
   "id": "6867c5bc",
   "metadata": {},
   "source": [
    "9. In regular expressions, what does the character \\r stand for?"
   ]
  },
  {
   "cell_type": "markdown",
   "id": "577a7396",
   "metadata": {},
   "source": [
    "In regular expressions, the character \\r represents a carriage return.\n",
    "\n",
    "A carriage return is a control character that originated from typewriters and is used to move the cursor to the beginning of a line. In the context of regular expressions, \\r is used to match the carriage return character itself.\n",
    "\n",
    "It's worth noting that the interpretation of \\r can vary depending on the platform or text file format being used. In some environments, such as Windows, a newline is represented by the combination of carriage return (\\r) followed by a line feed (\\n), whereas in other environments, such as Unix-like systems (Linux, macOS), only a line feed (\\n) is used.\n",
    "\n",
    "Here's an example that demonstrates the usage of \\r in a regular expression:"
   ]
  },
  {
   "cell_type": "code",
   "execution_count": 17,
   "id": "185a67d4",
   "metadata": {},
   "outputs": [
    {
     "name": "stdout",
     "output_type": "stream",
     "text": [
      "World\n"
     ]
    }
   ],
   "source": [
    "import re\n",
    "\n",
    "pattern = r\"Hello\\rWorld\"\n",
    "text = \"Hello\\rWorld\"\n",
    "\n",
    "match = re.search(pattern, text)\n",
    "\n",
    "if match:\n",
    "    matched_string = match.group()\n",
    "    print(\"Match found:\", matched_string)\n",
    "else:\n",
    "    print(\"No match found.\")\n"
   ]
  },
  {
   "cell_type": "code",
   "execution_count": null,
   "id": "d03614e8",
   "metadata": {},
   "outputs": [],
   "source": []
  },
  {
   "cell_type": "markdown",
   "id": "ebd3aa03",
   "metadata": {},
   "source": [
    "10.In regular expressions, what is the difference between the + and * characters?"
   ]
  },
  {
   "cell_type": "code",
   "execution_count": null,
   "id": "7c4c8d20",
   "metadata": {},
   "outputs": [],
   "source": [
    "In regular expressions, the + and * characters are quantifiers that specify the number of occurrences of the preceding pattern.\n",
    "\n",
    "The + quantifier means \"one or more\" occurrences of the preceding pattern. It requires that the preceding pattern occurs at least once but can be repeated multiple times. If the pattern is not present at least once, the match will fail.\n",
    "\n",
    "For example:\n",
    "\n",
    "Pattern: a+\n",
    "Matches: \"a\", \"aa\", \"aaa\", ...\n",
    "Does not match: \"\", \"b\", \"ab\"\n",
    "The * quantifier means \"zero or more\" occurrences of the preceding pattern. It allows the preceding pattern to occur zero times or multiple times. It will still result in a match even if the pattern is not present at all.\n",
    "\n",
    "For example:\n",
    "\n",
    "Pattern: a*\n",
    "Matches: \"\", \"a\", \"aa\", \"aaa\", ...\n",
    "Does not match: \"b\", \"ab\"\n",
    "In summary:\n",
    "\n",
    "+ matches one or more occurrences of the preceding pattern.\n",
    "* matches zero or more occurrences of the preceding pattern.\n",
    "Here's an example that demonstrates the difference between + and * in Python:"
   ]
  },
  {
   "cell_type": "code",
   "execution_count": 19,
   "id": "12634e80",
   "metadata": {},
   "outputs": [
    {
     "name": "stdout",
     "output_type": "stream",
     "text": [
      "Matches with + quantifier: ['ab', 'abb']\n",
      "Matches with * quantifier: ['ab', 'abb', 'a']\n"
     ]
    }
   ],
   "source": [
    "import re\n",
    "\n",
    "pattern_plus = r\"ab+\"\n",
    "pattern_star = r\"ab*\"\n",
    "\n",
    "text = \"ab abb a\"\n",
    "\n",
    "matches_plus = re.findall(pattern_plus, text)\n",
    "matches_star = re.findall(pattern_star, text)\n",
    "\n",
    "print(\"Matches with + quantifier:\", matches_plus)\n",
    "print(\"Matches with * quantifier:\", matches_star)\n"
   ]
  },
  {
   "cell_type": "code",
   "execution_count": null,
   "id": "7f148866",
   "metadata": {},
   "outputs": [],
   "source": []
  },
  {
   "cell_type": "markdown",
   "id": "61f37bcc",
   "metadata": {},
   "source": [
    "11. What is the difference between {4} and {4,5} in regular expression?"
   ]
  },
  {
   "cell_type": "markdown",
   "id": "0a4a810b",
   "metadata": {},
   "source": [
    "\n",
    "In regular expressions, {4} and {4,5} are quantifiers that specify the exact number of occurrences of the preceding pattern.\n",
    "\n",
    "The quantifier {4} specifies that the preceding pattern must occur exactly four times.\n",
    "\n",
    "For example:\n",
    "\n",
    "Pattern: a{4}\n",
    "Matches: \"aaaa\", \"abaaa\", \"aaaab\", ...\n",
    "Does not match: \"\", \"a\", \"aa\", \"aaaaa\"\n",
    "On the other hand, the quantifier {4,5} specifies that the preceding pattern must occur"
   ]
  },
  {
   "cell_type": "code",
   "execution_count": null,
   "id": "f0ecf4b9",
   "metadata": {},
   "outputs": [],
   "source": []
  },
  {
   "cell_type": "markdown",
   "id": "302315e3",
   "metadata": {},
   "source": [
    "12. What do you mean by the \\d, \\w, and \\s shorthand character classes signify in regular expressions?"
   ]
  },
  {
   "cell_type": "markdown",
   "id": "1e6ead0a",
   "metadata": {},
   "source": [
    "\\d represents the digit character class. It matches any decimal digit from 0 to 9. It is equivalent to the character range [0-9]."
   ]
  },
  {
   "cell_type": "markdown",
   "id": "d32ebec7",
   "metadata": {},
   "source": [
    "\\w represents the word character class. It matches any alphanumeric character (letters, digits, and underscores). It is equivalent to the character range [a-zA-Z0-9_]."
   ]
  },
  {
   "cell_type": "markdown",
   "id": "b8b1f8f1",
   "metadata": {},
   "source": [
    "\\s represents the whitespace character class. It matches any whitespace character, including spaces, tabs, and line breaks."
   ]
  },
  {
   "cell_type": "code",
   "execution_count": 21,
   "id": "b5528be6",
   "metadata": {},
   "outputs": [
    {
     "name": "stdout",
     "output_type": "stream",
     "text": [
      "Digits: ['1', '2', '3']\n",
      "Word Characters: ['a', 'b', 'c', '1', '2', '3']\n",
      "Whitespace Characters: [' ', ' ']\n"
     ]
    }
   ],
   "source": [
    "import re\n",
    "\n",
    "text = \"abc 123 !@#\"\n",
    "\n",
    "digits = re.findall(r\"\\d\", text)\n",
    "word_chars = re.findall(r\"\\w\", text)\n",
    "whitespace_chars = re.findall(r\"\\s\", text)\n",
    "\n",
    "print(\"Digits:\", digits)\n",
    "print(\"Word Characters:\", word_chars)\n",
    "print(\"Whitespace Characters:\", whitespace_chars)\n"
   ]
  },
  {
   "cell_type": "code",
   "execution_count": null,
   "id": "63d46eca",
   "metadata": {},
   "outputs": [],
   "source": []
  },
  {
   "cell_type": "markdown",
   "id": "6dc7c4a5",
   "metadata": {},
   "source": [
    "13. What do means by \\D, \\W, and \\S shorthand character classes signify in regular expressions?"
   ]
  },
  {
   "cell_type": "markdown",
   "id": "a7973a6e",
   "metadata": {},
   "source": [
    "\\D represents the negation of the digit character class \\d. It matches any character that is not a decimal digit from 0 to 9."
   ]
  },
  {
   "cell_type": "markdown",
   "id": "77643e11",
   "metadata": {},
   "source": [
    "\\W represents the negation of the word character class \\w. It matches any character that is not an alphanumeric character (letter, digit, or underscore)."
   ]
  },
  {
   "cell_type": "markdown",
   "id": "ef1c8a88",
   "metadata": {},
   "source": [
    "\\S represents the negation of the whitespace character class \\s. It matches any character that is not a whitespace character (space, tab, line break)."
   ]
  },
  {
   "cell_type": "code",
   "execution_count": 25,
   "id": "303bd977",
   "metadata": {},
   "outputs": [
    {
     "name": "stdout",
     "output_type": "stream",
     "text": [
      "Non-Digits: ['a', 'b', 'c', ' ', ' ', '!', '@', '#']\n",
      "Non-Word Characters: [' ', ' ', '!', '@', '#']\n",
      "Non-Whitespace Characters: ['a', 'b', 'c', '1', '2', '3', '!', '@', '#']\n"
     ]
    }
   ],
   "source": [
    "import re\n",
    "\n",
    "text = \"abc 123 !@#\"\n",
    "\n",
    "non_digits = re.findall(r\"\\D\", text)\n",
    "non_word_chars = re.findall(r\"\\W\", text)\n",
    "non_whitespace_chars = re.findall(r\"\\S\", text)\n",
    "\n",
    "print(\"Non-Digits:\", non_digits)\n",
    "print(\"Non-Word Characters:\", non_word_chars)\n",
    "print(\"Non-Whitespace Characters:\", non_whitespace_chars)\n"
   ]
  },
  {
   "cell_type": "code",
   "execution_count": null,
   "id": "544af436",
   "metadata": {},
   "outputs": [],
   "source": []
  },
  {
   "cell_type": "markdown",
   "id": "8d4c8568",
   "metadata": {},
   "source": [
    "14. What is the difference between .*? and .*?"
   ]
  },
  {
   "cell_type": "markdown",
   "id": "f344ec93",
   "metadata": {},
   "source": [
    ".*? is a non-greedy or lazy quantifier. It matches the shortest possible sequence of characters that satisfies the pattern."
   ]
  },
  {
   "cell_type": "markdown",
   "id": "a870b5ce",
   "metadata": {},
   "source": [
    ".* is a greedy quantifier. It matches the longest possible sequence of characters that satisfies the pattern."
   ]
  },
  {
   "cell_type": "code",
   "execution_count": null,
   "id": "c501abbe",
   "metadata": {},
   "outputs": [],
   "source": []
  },
  {
   "cell_type": "markdown",
   "id": "da538f82",
   "metadata": {},
   "source": [
    "15. What is the syntax for matching both numbers and lowercase letters with a character class?"
   ]
  },
  {
   "cell_type": "code",
   "execution_count": null,
   "id": "b45b3dd7",
   "metadata": {},
   "outputs": [],
   "source": [
    "[0-9a-z]"
   ]
  },
  {
   "cell_type": "markdown",
   "id": "6d15198d",
   "metadata": {},
   "source": [
    " the character class [0-9a-z] specifies a range of characters. It matches any single character that is either a digit from 0 to 9 or a lowercase letter from a to z."
   ]
  },
  {
   "cell_type": "code",
   "execution_count": null,
   "id": "3d96ce87",
   "metadata": {},
   "outputs": [],
   "source": [
    "Pattern: [0-9a-z]\n",
    "\n",
    "Matches: \"0\", \"a\", \"7\", \"x\"\n",
    "Does not match: \"A\", \".\", \"#\", \"!\"\n",
    "Pattern: [a-z0-9]\n",
    "\n",
    "Matches: \"a\", \"5\", \"b\", \"2\"\n",
    "Does not match: \"X\", \"*\", \"!\", \".\""
   ]
  },
  {
   "cell_type": "code",
   "execution_count": null,
   "id": "32c76a87",
   "metadata": {},
   "outputs": [],
   "source": []
  },
  {
   "cell_type": "markdown",
   "id": "1e1e5064",
   "metadata": {},
   "source": [
    "16. What is the procedure for making a normal expression in regax case insensitive?"
   ]
  },
  {
   "cell_type": "markdown",
   "id": "83237f5c",
   "metadata": {},
   "source": [
    "Using the re.IGNORECASE flag as an argument in the re.compile() function:"
   ]
  },
  {
   "cell_type": "code",
   "execution_count": 30,
   "id": "42f6534f",
   "metadata": {},
   "outputs": [],
   "source": [
    "import re\n",
    "\n",
    "pattern = re.compile(r\"pattern\", re.IGNORECASE)\n"
   ]
  },
  {
   "cell_type": "code",
   "execution_count": null,
   "id": "08a81b2d",
   "metadata": {},
   "outputs": [],
   "source": []
  },
  {
   "cell_type": "markdown",
   "id": "3ad59da4",
   "metadata": {},
   "source": [
    "17. What does the . character normally match? What does it match if re.DOTALL is passed as 2nd argument in re.compile()?"
   ]
  },
  {
   "cell_type": "markdown",
   "id": "d63b0f34",
   "metadata": {},
   "source": [
    "In regular expressions, the . (dot) character is a special metacharacter that normally matches any character except a newline character (\\n). It represents a wildcard and can match any single character in the input text."
   ]
  },
  {
   "cell_type": "markdown",
   "id": "0cc66e6f",
   "metadata": {},
   "source": [
    "However, if the re.DOTALL or re.S flag is passed as the second argument to re.compile(), the dot . will match any character, including newline characters. The re.DOTALL flag makes the dot behave as a truly wildcard character, spanning across multiple lines."
   ]
  },
  {
   "cell_type": "code",
   "execution_count": 32,
   "id": "f8a30fd3",
   "metadata": {},
   "outputs": [
    {
     "name": "stdout",
     "output_type": "stream",
     "text": [
      "['Line 1\\nLine 2\\nLine 3', '']\n"
     ]
    }
   ],
   "source": [
    "import re\n",
    "\n",
    "text = \"Line 1\\nLine 2\\nLine 3\"\n",
    "\n",
    "pattern = re.compile(r\".*\", re.DOTALL)\n",
    "matches = pattern.findall(text)\n",
    "\n",
    "print(matches)\n"
   ]
  },
  {
   "cell_type": "code",
   "execution_count": null,
   "id": "4a73c634",
   "metadata": {},
   "outputs": [],
   "source": []
  },
  {
   "cell_type": "markdown",
   "id": "f8783839",
   "metadata": {},
   "source": [
    "18. If numReg = re.compile(r'\\d+'), what will numRegex.sub('X', '11 drummers, 10 pipers, five rings, 4 hen') return?"
   ]
  },
  {
   "cell_type": "markdown",
   "id": "120473b0",
   "metadata": {},
   "source": [
    "\n",
    "If numReg = re.compile(r'\\d+'), and we call numReg.sub('X', '11 drummers, 10 pipers, five rings, 4 hen'), the return value will be:\n",
    "\n",
    "'X drummers, X pipers, five rings, X hen'"
   ]
  },
  {
   "cell_type": "code",
   "execution_count": null,
   "id": "843a603e",
   "metadata": {},
   "outputs": [],
   "source": []
  },
  {
   "cell_type": "markdown",
   "id": "0a7ef68f",
   "metadata": {},
   "source": [
    "19. What does passing re.VERBOSE as the 2nd argument to re.compile() allow to do?"
   ]
  },
  {
   "cell_type": "markdown",
   "id": "2307faa4",
   "metadata": {},
   "source": [
    "Passing re.VERBOSE as the second argument to re.compile() allows you to add whitespace and comments to the regular expression pattern for improved readability. It enables you to write more organized and understandable regular expressions."
   ]
  },
  {
   "cell_type": "markdown",
   "id": "d02d2eb8",
   "metadata": {},
   "source": [
    "When the re.VERBOSE flag is used, the following rules apply to the pattern:\n",
    "\n",
    "Whitespace outside of character classes is ignored: Whitespace characters (spaces, tabs, and line breaks) outside of character classes are ignored. This allows you to format the regular expression pattern with indentation, line breaks, and comments to make it more readable.\n",
    "\n",
    "Whitespace inside character classes is preserved: Whitespace characters inside character classes (enclosed within square brackets) are treated as literal characters and not ignored.\n",
    "\n",
    "Comments are allowed: You can include comments in the pattern by starting them with the # character. Comments can provide explanations, clarify intent, or make the pattern easier to understand."
   ]
  },
  {
   "cell_type": "code",
   "execution_count": 34,
   "id": "aa5b75d9",
   "metadata": {},
   "outputs": [
    {
     "name": "stdout",
     "output_type": "stream",
     "text": [
      "Phone number found: 123-4567\n"
     ]
    }
   ],
   "source": [
    "import re\n",
    "\n",
    "pattern = re.compile(r\"\"\"\n",
    "    \\d{3}  # Match three digits\n",
    "    -      # Match a hyphen\n",
    "    \\d{4}  # Match four digits\n",
    "\"\"\", re.VERBOSE)\n",
    "\n",
    "text = \"Phone number: 123-4567\"\n",
    "\n",
    "match = pattern.search(text)\n",
    "if match:\n",
    "    print(\"Phone number found:\", match.group())\n"
   ]
  },
  {
   "cell_type": "code",
   "execution_count": null,
   "id": "051cc0ec",
   "metadata": {},
   "outputs": [],
   "source": []
  },
  {
   "cell_type": "markdown",
   "id": "ba9baedd",
   "metadata": {},
   "source": [
    "20. How would you write a regex that match a number with comma for every three digits? It must match the given following:\n",
    "'42'\n",
    "'1,234'\n",
    "'6,368,745'\n",
    "but not the following:\n",
    "'12,34,567' (which has only two digits between the commas)\n",
    "'1234' (which lacks commas)\n"
   ]
  },
  {
   "cell_type": "code",
   "execution_count": 35,
   "id": "b725e715",
   "metadata": {},
   "outputs": [
    {
     "name": "stdout",
     "output_type": "stream",
     "text": [
      "<re.Match object; span=(0, 2), match='42'>\n",
      "<re.Match object; span=(0, 5), match='1,234'>\n",
      "<re.Match object; span=(0, 9), match='6,368,745'>\n",
      "None\n",
      "None\n"
     ]
    }
   ],
   "source": [
    "import re\n",
    "\n",
    "pattern = re.compile(r'^\\d{1,3}(,\\d{3})*$')\n",
    "\n",
    "# Valid matches\n",
    "print(pattern.match('42'))  # Matches\n",
    "print(pattern.match('1,234'))  # Matches\n",
    "print(pattern.match('6,368,745'))  # Matches\n",
    "\n",
    "# Invalid matches\n",
    "print(pattern.match('12,34,567'))  # Does not match\n",
    "print(pattern.match('1234'))  # Does not match\n"
   ]
  },
  {
   "cell_type": "code",
   "execution_count": null,
   "id": "1d58c346",
   "metadata": {},
   "outputs": [],
   "source": []
  },
  {
   "cell_type": "markdown",
   "id": "d2fea1aa",
   "metadata": {},
   "source": [
    "21. How would you write a regex that matches the full name of someone whose last name is Watanabe? You can assume that the first name that comes before it will always be one word that begins with a capital letter. The regex must match the following:\n",
    "'Haruto Watanabe'\n",
    "'Alice Watanabe'\n",
    "'RoboCop Watanabe'\n",
    "but not the following:\n",
    "'haruto Watanabe' (where the first name is not capitalized)\n",
    "'Mr. Watanabe' (where the preceding word has a nonletter character)\n",
    "'Watanabe' (which has no first name)\n",
    "'Haruto watanabe' (where Watanabe is not capitalized)\n"
   ]
  },
  {
   "cell_type": "code",
   "execution_count": 39,
   "id": "2ace5669",
   "metadata": {},
   "outputs": [
    {
     "name": "stdout",
     "output_type": "stream",
     "text": [
      "<re.Match object; span=(0, 15), match='Haruto Watanabe'>\n",
      "<re.Match object; span=(0, 14), match='Alice Watanabe'>\n",
      "<re.Match object; span=(0, 16), match='RoboCop Watanabe'>\n",
      "None\n",
      "None\n",
      "None\n",
      "None\n"
     ]
    }
   ],
   "source": [
    "import re\n",
    "\n",
    "pattern = re.compile(r'^[A-Z][a-zA-Z]*\\sWatanabe$')\n",
    "\n",
    "# Valid matches\n",
    "print(pattern.match('Haruto Watanabe'))  # Matches\n",
    "print(pattern.match('Alice Watanabe'))  # Matches\n",
    "print(pattern.match('RoboCop Watanabe'))  # Matches\n",
    "\n",
    "# Invalid matches\n",
    "print(pattern.match('haruto Watanabe'))  # Does not match\n",
    "print(pattern.match('Mr. Watanabe'))  # Does not match\n",
    "print(pattern.match('Watanabe'))  # Does not match\n",
    "print(pattern.match('Haruto watanabe'))  # Does not match\n"
   ]
  },
  {
   "cell_type": "code",
   "execution_count": null,
   "id": "0d3fd745",
   "metadata": {},
   "outputs": [],
   "source": []
  },
  {
   "cell_type": "markdown",
   "id": "6901f16a",
   "metadata": {},
   "source": [
    "22. How would you write a regex that matches a sentence where the first word is either Alice, Bob, or Carol; the second word is either eats, pets, or throws; the third word is apples, cats, or baseballs; and the sentence ends with a period? This regex should be case-insensitive. It must match the following:\n",
    "'Alice eats apples.'\n",
    "'Bob pets cats.'\n",
    "'Carol throws baseballs.'\n",
    "'Alice throws Apples.'\n",
    "'BOB EATS CATS.'\n",
    "but not the following:\n",
    "'RoboCop eats apples.'\n",
    "'ALICE THROWS FOOTBALLS.'\n",
    "'Carol eats 7 cats.'\n",
    "\n"
   ]
  },
  {
   "cell_type": "code",
   "execution_count": 41,
   "id": "481f4823",
   "metadata": {},
   "outputs": [
    {
     "name": "stdout",
     "output_type": "stream",
     "text": [
      "<re.Match object; span=(0, 18), match='Alice eats apples.'>\n",
      "<re.Match object; span=(0, 14), match='Bob pets cats.'>\n",
      "<re.Match object; span=(0, 23), match='Carol throws baseballs.'>\n",
      "<re.Match object; span=(0, 20), match='Alice throws Apples.'>\n",
      "<re.Match object; span=(0, 14), match='BOB EATS CATS.'>\n",
      "None\n",
      "None\n",
      "None\n"
     ]
    }
   ],
   "source": [
    "import re\n",
    "\n",
    "pattern = re.compile(r'^(Alice|Bob|Carol)\\s+(eats|pets|throws)\\s+(apples|cats|baseballs)\\.$', re.IGNORECASE)\n",
    "\n",
    "# Valid matches\n",
    "print(pattern.match('Alice eats apples.'))  # Matches\n",
    "print(pattern.match('Bob pets cats.'))  # Matches\n",
    "print(pattern.match('Carol throws baseballs.'))  # Matches\n",
    "print(pattern.match('Alice throws Apples.'))  # Matches\n",
    "print(pattern.match('BOB EATS CATS.'))  # Matches\n",
    "\n",
    "# Invalid matches\n",
    "print(pattern.match('RoboCop eats apples.'))  # Does not match\n",
    "print(pattern.match('ALICE THROWS FOOTBALLS.'))  # Does not match\n",
    "print(pattern.match('Carol eats 7 cats.'))  # Does not match\n"
   ]
  },
  {
   "cell_type": "code",
   "execution_count": null,
   "id": "ba897910",
   "metadata": {},
   "outputs": [],
   "source": []
  }
 ],
 "metadata": {
  "kernelspec": {
   "display_name": "Python 3 (ipykernel)",
   "language": "python",
   "name": "python3"
  },
  "language_info": {
   "codemirror_mode": {
    "name": "ipython",
    "version": 3
   },
   "file_extension": ".py",
   "mimetype": "text/x-python",
   "name": "python",
   "nbconvert_exporter": "python",
   "pygments_lexer": "ipython3",
   "version": "3.10.9"
  }
 },
 "nbformat": 4,
 "nbformat_minor": 5
}
