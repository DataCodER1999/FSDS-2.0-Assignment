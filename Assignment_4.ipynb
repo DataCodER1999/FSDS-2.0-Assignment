{
 "cells": [
  {
   "cell_type": "markdown",
   "id": "3f0438ff",
   "metadata": {},
   "source": [
    "1. What exactly is []?"
   ]
  },
  {
   "cell_type": "code",
   "execution_count": 2,
   "id": "580544ba",
   "metadata": {},
   "outputs": [],
   "source": [
    "## This is basically a syntax to create a list . This is a empty list"
   ]
  },
  {
   "cell_type": "markdown",
   "id": "f01e2207",
   "metadata": {},
   "source": [
    "2. In a list of values stored in a variable called spam, how would you assign the value 'hello' as the third value? (Assume [2, 4, 6, 8, 10] are in spam.)"
   ]
  },
  {
   "cell_type": "code",
   "execution_count": 8,
   "id": "115f79ef",
   "metadata": {},
   "outputs": [],
   "source": [
    "spam = [2,4,6,8,10]"
   ]
  },
  {
   "cell_type": "code",
   "execution_count": 9,
   "id": "2e4f02b0",
   "metadata": {},
   "outputs": [],
   "source": [
    "spam.insert(2,'hello')"
   ]
  },
  {
   "cell_type": "code",
   "execution_count": 11,
   "id": "790063c8",
   "metadata": {},
   "outputs": [
    {
     "name": "stdout",
     "output_type": "stream",
     "text": [
      "[2, 4, 'hello', 6, 8, 10]\n"
     ]
    }
   ],
   "source": [
    "print(spam)"
   ]
  },
  {
   "cell_type": "markdown",
   "id": "6e246745",
   "metadata": {},
   "source": [
    "3. What is the value of spam[int(int('3' * 2) / 11)]?"
   ]
  },
  {
   "cell_type": "code",
   "execution_count": 15,
   "id": "e80be358",
   "metadata": {},
   "outputs": [
    {
     "name": "stdout",
     "output_type": "stream",
     "text": [
      "6\n"
     ]
    }
   ],
   "source": [
    "# Ans ->  \n",
    "# print(spam)\n",
    "# The above will give answer as 3\n",
    "print(spam[3])"
   ]
  },
  {
   "cell_type": "markdown",
   "id": "0efe0eae",
   "metadata": {},
   "source": [
    "4. What is the value of spam[-1]?"
   ]
  },
  {
   "cell_type": "code",
   "execution_count": 16,
   "id": "ac26351d",
   "metadata": {},
   "outputs": [
    {
     "data": {
      "text/plain": [
       "10"
      ]
     },
     "execution_count": 16,
     "metadata": {},
     "output_type": "execute_result"
    }
   ],
   "source": [
    "spam[-1]"
   ]
  },
  {
   "cell_type": "markdown",
   "id": "d030c778",
   "metadata": {},
   "source": [
    "5. What is the value of spam[:2]?"
   ]
  },
  {
   "cell_type": "code",
   "execution_count": 18,
   "id": "5d3455bf",
   "metadata": {},
   "outputs": [
    {
     "data": {
      "text/plain": [
       "[2, 4]"
      ]
     },
     "execution_count": 18,
     "metadata": {},
     "output_type": "execute_result"
    }
   ],
   "source": [
    "spam[:2]"
   ]
  },
  {
   "cell_type": "code",
   "execution_count": 25,
   "id": "83d24d4c",
   "metadata": {},
   "outputs": [],
   "source": [
    "bacon =  [3.14, 'cat', 11, 'cat', True]"
   ]
  },
  {
   "cell_type": "markdown",
   "id": "34c78976",
   "metadata": {},
   "source": [
    "6. What is the value of bacon.index('cat')?"
   ]
  },
  {
   "cell_type": "code",
   "execution_count": 27,
   "id": "410320aa",
   "metadata": {},
   "outputs": [
    {
     "data": {
      "text/plain": [
       "1"
      ]
     },
     "execution_count": 27,
     "metadata": {},
     "output_type": "execute_result"
    }
   ],
   "source": [
    "bacon.index('cat')"
   ]
  },
  {
   "cell_type": "markdown",
   "id": "d908a684",
   "metadata": {},
   "source": [
    "7. How does bacon.append(99) change the look of the list value in bacon?"
   ]
  },
  {
   "cell_type": "code",
   "execution_count": 29,
   "id": "2d4b723f",
   "metadata": {},
   "outputs": [],
   "source": [
    "bacon.append(99)"
   ]
  },
  {
   "cell_type": "code",
   "execution_count": 31,
   "id": "f7d2a62f",
   "metadata": {},
   "outputs": [],
   "source": [
    "# this will add value to end of the list}"
   ]
  },
  {
   "cell_type": "markdown",
   "id": "cc2cb974",
   "metadata": {},
   "source": [
    "8. How does bacon.remove('cat') change the look of the list in bacon?"
   ]
  },
  {
   "cell_type": "code",
   "execution_count": 33,
   "id": "a9810f3f",
   "metadata": {},
   "outputs": [],
   "source": [
    "bacon.remove('cat')"
   ]
  },
  {
   "cell_type": "code",
   "execution_count": 35,
   "id": "2c7da592",
   "metadata": {},
   "outputs": [
    {
     "name": "stdout",
     "output_type": "stream",
     "text": [
      "[3.14, 11, True, 99, 99]\n"
     ]
    }
   ],
   "source": [
    "print(bacon)"
   ]
  },
  {
   "cell_type": "markdown",
   "id": "27664551",
   "metadata": {},
   "source": [
    "9. What are the list concatenation and list replication operators?"
   ]
  },
  {
   "cell_type": "code",
   "execution_count": 37,
   "id": "1a530edb",
   "metadata": {},
   "outputs": [],
   "source": [
    "#Ans - >  list concatenation operator = [+]  ans list replication operator is = [*]"
   ]
  },
  {
   "cell_type": "code",
   "execution_count": 39,
   "id": "b3dcc56f",
   "metadata": {},
   "outputs": [
    {
     "name": "stdout",
     "output_type": "stream",
     "text": [
      "[1, 2, 3, 4, 5, 6, 7, 8, 9, 10]\n",
      "[1, 2, 3, 4, 5, 1, 2, 3, 4, 5, 1, 2, 3, 4, 5]\n"
     ]
    }
   ],
   "source": [
    "l1 = [1,2,3,4,5]\n",
    "l2 = [6,7,8,9,10]\n",
    "print(l1+l2) # list concatenation\n",
    "print(l1*3) # list replication"
   ]
  },
  {
   "cell_type": "markdown",
   "id": "185355d3",
   "metadata": {},
   "source": [
    "10. What is difference between the list methods append() and insert()?"
   ]
  },
  {
   "cell_type": "code",
   "execution_count": 41,
   "id": "51520fc0",
   "metadata": {},
   "outputs": [],
   "source": [
    "# Ans -> List append add a value to the end of the list where as list insert is used to add the value at \n",
    "# a specific index\n",
    "l = [1,2,3,4]\n",
    "l.append(5)\n",
    "l.insert(2,56)"
   ]
  },
  {
   "cell_type": "code",
   "execution_count": 43,
   "id": "dd458a8f",
   "metadata": {},
   "outputs": [
    {
     "name": "stdout",
     "output_type": "stream",
     "text": [
      "[1, 2, 56, 3, 4, 5]\n"
     ]
    }
   ],
   "source": [
    "print(l)"
   ]
  },
  {
   "cell_type": "markdown",
   "id": "eea63668",
   "metadata": {},
   "source": [
    "11. What are the two methods for removing items from a list?"
   ]
  },
  {
   "cell_type": "code",
   "execution_count": 45,
   "id": "edcb07d4",
   "metadata": {},
   "outputs": [
    {
     "name": "stdout",
     "output_type": "stream",
     "text": [
      "[1, 2, 4, 5]\n",
      "[1, 2, 4]\n"
     ]
    }
   ],
   "source": [
    "l = [1,2,3,4,5]\n",
    "# 1. remove -  by value\n",
    "l.remove(3)\n",
    "print(l)\n",
    "\n",
    "#2. pop - by index value\n",
    "l.pop(3)\n",
    "print(l)"
   ]
  },
  {
   "cell_type": "markdown",
   "id": "c84952cd",
   "metadata": {},
   "source": [
    "12. Describe how list values and string values are identical."
   ]
  },
  {
   "cell_type": "code",
   "execution_count": 47,
   "id": "77b7fe30",
   "metadata": {},
   "outputs": [],
   "source": [
    "# Ans -> list values hold the address in the memory which points to the actual locations in the memory where\n",
    "# actual values are stores . Similarly strings are stores in the memory they are stored in the form of a list\n",
    "# which hold the adress of the characters in the memory"
   ]
  },
  {
   "cell_type": "markdown",
   "id": "1d7a5010",
   "metadata": {},
   "source": [
    "13. What's the difference between tuples and lists?"
   ]
  },
  {
   "cell_type": "code",
   "execution_count": 49,
   "id": "959fec90",
   "metadata": {},
   "outputs": [],
   "source": [
    "# Ans -> Lists are mutable where tuples are immutable . They have  a difference in their syntax . List take \n",
    "# more memory and are  slow whereas tuples are faster and takes less memory"
   ]
  },
  {
   "cell_type": "markdown",
   "id": "9fb80a22",
   "metadata": {},
   "source": [
    "14. How do you type a tuple value that only contains the integer 42?"
   ]
  },
  {
   "cell_type": "code",
   "execution_count": 51,
   "id": "5ce7ae68",
   "metadata": {},
   "outputs": [],
   "source": [
    "t = (42,)"
   ]
  },
  {
   "cell_type": "code",
   "execution_count": 53,
   "id": "8eb58af8",
   "metadata": {},
   "outputs": [
    {
     "data": {
      "text/plain": [
       "tuple"
      ]
     },
     "execution_count": 53,
     "metadata": {},
     "output_type": "execute_result"
    }
   ],
   "source": [
    "type(t)"
   ]
  },
  {
   "cell_type": "markdown",
   "id": "f28296de",
   "metadata": {},
   "source": [
    "15. How do you get a list value's tuple form? How do you get a tuple value's list form?"
   ]
  },
  {
   "cell_type": "code",
   "execution_count": 54,
   "id": "6197199b",
   "metadata": {},
   "outputs": [
    {
     "name": "stdout",
     "output_type": "stream",
     "text": [
      "[1, 2, 3, 4]\n",
      "(1, 2, 3, 4)\n",
      "(1, 2, 3, 4)\n",
      "[1, 2, 3, 4]\n"
     ]
    }
   ],
   "source": [
    "l = [1,2,3,4]\n",
    "print(l)\n",
    "l = tuple(l)\n",
    "print(l)\n",
    "t = (1,2,3,4)\n",
    "print(t)\n",
    "t = list(t)\n",
    "print(t)"
   ]
  },
  {
   "cell_type": "markdown",
   "id": "cdc8a491",
   "metadata": {},
   "source": [
    "16. Variables that \"contain\" list values are not necessarily lists themselves. Instead, what do they contain?"
   ]
  },
  {
   "cell_type": "code",
   "execution_count": 55,
   "id": "d7497d48",
   "metadata": {},
   "outputs": [
    {
     "name": "stdout",
     "output_type": "stream",
     "text": [
      "[1, 2, 3, True, 'Hello']\n"
     ]
    }
   ],
   "source": [
    "# It means that list can contains different datatype values\n",
    "l = [1,2,3,True,\"Hello\"]\n",
    "print(l)"
   ]
  },
  {
   "cell_type": "markdown",
   "id": "7fb0e59e",
   "metadata": {},
   "source": [
    "17. How do you distinguish between copy.copy() and copy.deepcopy()?"
   ]
  },
  {
   "cell_type": "markdown",
   "id": "12a76cfc",
   "metadata": {},
   "source": [
    "copy.copy(): This function performs a shallow copy of an object. It creates a new object and then inserts references to the same objects found in the original. In other words, it creates a new container object but doesn't recursively copy the nested objects. If the original object contains references to mutable objects, both the original and copied object will point to the same mutable objects. Therefore, modifications to the mutable objects may affect both the original and copied objects.\n",
    "\n",
    "copy.deepcopy(): This function performs a deep copy of an object. It creates a new object and then recursively copies all the nested objects within it. This means that all the objects referenced by the original object are also copied, resulting in a completely independent and separate copy. Any changes made to the original or copied objects will not affect each other."
   ]
  }
 ],
 "metadata": {
  "kernelspec": {
   "display_name": "Python 3 (ipykernel)",
   "language": "python",
   "name": "python3"
  },
  "language_info": {
   "codemirror_mode": {
    "name": "ipython",
    "version": 3
   },
   "file_extension": ".py",
   "mimetype": "text/x-python",
   "name": "python",
   "nbconvert_exporter": "python",
   "pygments_lexer": "ipython3",
   "version": "3.10.9"
  }
 },
 "nbformat": 4,
 "nbformat_minor": 5
}
