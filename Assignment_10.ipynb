{
 "cells": [
  {
   "cell_type": "markdown",
   "id": "f7531355",
   "metadata": {},
   "source": [
    "1. How do you distinguish between shutil.copy() and shutil.copytree()?"
   ]
  },
  {
   "cell_type": "markdown",
   "id": "25cb4ee2",
   "metadata": {},
   "source": [
    "The shutil.copy() and shutil.copytree() functions from the shutil module in Python are used for different purposes:\n",
    "\n",
    "shutil.copy(src, dst):\n",
    "\n",
    "The shutil.copy() function is used to copy a single file from the source (src) location to the destination (dst) location.\n",
    "It creates a new file at the destination with the same contents as the source file.\n",
    "If the destination file already exists, it will be overwritten."
   ]
  },
  {
   "cell_type": "code",
   "execution_count": null,
   "id": "74c5a4f2",
   "metadata": {},
   "outputs": [],
   "source": [
    "import shutil\n",
    "\n",
    "shutil.copy('source_file.txt', 'destination_file.txt')\n"
   ]
  },
  {
   "cell_type": "markdown",
   "id": "accceb38",
   "metadata": {},
   "source": [
    "shutil.copytree(src, dst):\n",
    "\n",
    "The shutil.copytree() function is used to recursively copy an entire directory tree from the source (src) location to the destination (dst) location.\n",
    "It creates a new directory at the destination and copies all the files and subdirectories from the source directory.\n",
    "If the destination directory already exists, an error will be raised unless the ignore parameter is specified to handle conflicts"
   ]
  },
  {
   "cell_type": "code",
   "execution_count": null,
   "id": "929aaca8",
   "metadata": {},
   "outputs": [],
   "source": [
    "import shutil\n",
    "\n",
    "shutil.copytree('source_directory', 'destination_directory')\n"
   ]
  },
  {
   "cell_type": "code",
   "execution_count": null,
   "id": "1b9b4315",
   "metadata": {},
   "outputs": [],
   "source": []
  },
  {
   "cell_type": "markdown",
   "id": "82d9f289",
   "metadata": {},
   "source": [
    "2. What function is used to rename files??"
   ]
  },
  {
   "cell_type": "markdown",
   "id": "42c9d992",
   "metadata": {},
   "source": [
    "\n",
    "The os.rename() function is used to rename files in Python. It is part of the os module, which provides various operating system-related functionalities."
   ]
  },
  {
   "cell_type": "code",
   "execution_count": null,
   "id": "8fb397fc",
   "metadata": {},
   "outputs": [],
   "source": [
    "import os\n",
    "\n",
    "os.rename(src, dst)\n"
   ]
  },
  {
   "cell_type": "code",
   "execution_count": null,
   "id": "260ac1d4",
   "metadata": {},
   "outputs": [],
   "source": []
  },
  {
   "cell_type": "markdown",
   "id": "d2ca2771",
   "metadata": {},
   "source": [
    "3. What is the difference between the delete functions in the send2trash and shutil modules?"
   ]
  },
  {
   "cell_type": "markdown",
   "id": "04cfc4f8",
   "metadata": {},
   "source": [
    "The send2trash and shutil modules provide different ways to delete files or directories in Python:\n",
    "\n",
    "send2trash module:\n",
    "\n",
    "The send2trash module provides a function called send2trash() that sends files or directories to the system's trash or recycle bin instead of permanently deleting them.\n",
    "It provides a safe way to delete files by moving them to the trash bin, allowing for potential recovery if needed.\n",
    "The send2trash() function takes a file or directory path as an argument and moves it to the trash bin."
   ]
  },
  {
   "cell_type": "code",
   "execution_count": null,
   "id": "550561d4",
   "metadata": {},
   "outputs": [],
   "source": [
    "import send2trash\n",
    "send2trash.send2trash('path/to/file.txt')"
   ]
  },
  {
   "cell_type": "markdown",
   "id": "f4a6326d",
   "metadata": {},
   "source": [
    "shutil module:\n",
    "\n",
    "The shutil module provides several functions for file and directory operations, including file deletion.\n",
    "The shutil module has the os.remove() function, which is used to delete a single file, and the shutil.rmtree() function, which is used to delete an entire directory tree.\n",
    "These functions delete files or directories permanently without moving them to the trash bin."
   ]
  },
  {
   "cell_type": "code",
   "execution_count": null,
   "id": "988e5008",
   "metadata": {},
   "outputs": [],
   "source": [
    "import os\n",
    "import shutil\n",
    "os.remove('path/to/file.txt')\n",
    "shutil.rmtree('path/to/directory')\n"
   ]
  },
  {
   "cell_type": "code",
   "execution_count": null,
   "id": "610cd12e",
   "metadata": {},
   "outputs": [],
   "source": []
  },
  {
   "cell_type": "markdown",
   "id": "0fca7452",
   "metadata": {},
   "source": [
    "4.ZipFile objects have a close() method just like File objects’ close() method. What ZipFile method is equivalent to File objects’ open() method?"
   ]
  },
  {
   "cell_type": "markdown",
   "id": "e3129ef6",
   "metadata": {},
   "source": [
    "The equivalent method in the ZipFile class to the open() method of File objects is the ZipFile() constructor.\n",
    "\n",
    "To open a ZIP file using ZipFile, you can use the ZipFile() constructor to create a ZipFile object that represents the ZIP file. It allows you to interact with the contents of the ZIP file."
   ]
  },
  {
   "cell_type": "code",
   "execution_count": null,
   "id": "bd7b2793",
   "metadata": {},
   "outputs": [],
   "source": [
    "import zipfile\n",
    "zip_file = zipfile.ZipFile('example.zip', 'r')\n",
    "zip_file.close()\n"
   ]
  },
  {
   "cell_type": "code",
   "execution_count": null,
   "id": "7b579f83",
   "metadata": {},
   "outputs": [],
   "source": []
  },
  {
   "cell_type": "markdown",
   "id": "2a0f8ae4",
   "metadata": {},
   "source": [
    "5. Create a programme that searches a folder tree for files with a certain file extension (such as .pdf or .jpg). Copy these files from whatever location they are in to a new folder."
   ]
  },
  {
   "cell_type": "code",
   "execution_count": null,
   "id": "8674577b",
   "metadata": {},
   "outputs": [],
   "source": [
    "import os\n",
    "import shutil\n",
    "\n",
    "def copy_files_with_extension(source_folder, destination_folder, file_extension):\n",
    "    \n",
    "    if not os.path.exists(destination_folder):\n",
    "        os.makedirs(destination_folder)\n",
    "\n",
    "  \n",
    "    for root, _, files in os.walk(source_folder):\n",
    "        for file in files:\n",
    "            if file.endswith(file_extension):\n",
    "                source_path = os.path.join(root, file)\n",
    "                destination_path = os.path.join(destination_folder, file)\n",
    "                shutil.copy2(source_path, destination_path)\n",
    "                print(f\"Copied: {source_path} -> {destination_path}\")\n",
    "\n",
    "\n",
    "source_folder = '/path/to/source/folder'  \n",
    "destination_folder = '/path/to/destination/folder' \n",
    "file_extension = '.pdf'  \n",
    "\n",
    "copy_files_with_extension(source_folder, destination_folder, file_extension)\n"
   ]
  }
 ],
 "metadata": {
  "kernelspec": {
   "display_name": "Python 3 (ipykernel)",
   "language": "python",
   "name": "python3"
  },
  "language_info": {
   "codemirror_mode": {
    "name": "ipython",
    "version": 3
   },
   "file_extension": ".py",
   "mimetype": "text/x-python",
   "name": "python",
   "nbconvert_exporter": "python",
   "pygments_lexer": "ipython3",
   "version": "3.10.9"
  }
 },
 "nbformat": 4,
 "nbformat_minor": 5
}
