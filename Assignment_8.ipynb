{
 "cells": [
  {
   "cell_type": "markdown",
   "id": "6e872a9c",
   "metadata": {},
   "source": [
    "1. Is the Python Standard Library included with PyInputPlus?"
   ]
  },
  {
   "cell_type": "markdown",
   "id": "792596ad",
   "metadata": {},
   "source": [
    "No, the Python Standard Library is separate from PyInputPlus. The Python Standard Library is a collection of modules and packages that come bundled with Python and provide a wide range of functionality for tasks such as file handling, networking, data manipulation, and more.\n",
    "\n",
    "On the other hand, PyInputPlus is a third-party library that is not part of the Python Standard Library. PyInputPlus provides additional functions for handling user input in a more convenient and robust way, including features like input validation, time limits, and retries.\n",
    "\n",
    "While PyInputPlus is not included with the Python Standard Library by default, you can install it separately using a package manager like pip."
   ]
  },
  {
   "cell_type": "code",
   "execution_count": null,
   "id": "e1639eb7",
   "metadata": {},
   "outputs": [],
   "source": []
  },
  {
   "cell_type": "markdown",
   "id": "7214f314",
   "metadata": {},
   "source": [
    "2. Why is PyInputPlus commonly imported with import pyinputplus as pypi?"
   ]
  },
  {
   "cell_type": "markdown",
   "id": "b357a22b",
   "metadata": {},
   "source": [
    "PyInputPlus is commonly imported with the alias pypi (import pyinputplus as pypi) for brevity and convenience.\n",
    "\n",
    "The name pyinputplus itself can be long to type repeatedly, especially when using PyInputPlus functions frequently in a script. By importing it with the alias pypi, you can use a shorter and more concise name when referring to PyInputPlus functions and classes throughout your code.\n",
    "\n",
    "Using an alias also helps to avoid potential naming conflicts with other modules or variables in your code. If you import PyInputPlus without an alias and there is another module or variable with a similar name, it can lead to confusion or naming collisions. By providing an alias, you can ensure clear and unambiguous references to PyInputPlus functions and classes."
   ]
  },
  {
   "cell_type": "code",
   "execution_count": 2,
   "id": "a8143ce8",
   "metadata": {},
   "outputs": [
    {
     "name": "stdout",
     "output_type": "stream",
     "text": [
      "Collecting pyinputplus\n",
      "  Downloading PyInputPlus-0.2.12.tar.gz (20 kB)\n",
      "  Installing build dependencies: started\n",
      "  Installing build dependencies: finished with status 'done'\n",
      "  Getting requirements to build wheel: started\n",
      "  Getting requirements to build wheel: finished with status 'done'\n",
      "  Preparing metadata (pyproject.toml): started\n",
      "  Preparing metadata (pyproject.toml): finished with status 'done'\n",
      "Collecting stdiomask>=0.0.3\n",
      "  Downloading stdiomask-0.0.6.tar.gz (3.6 kB)\n",
      "  Installing build dependencies: started\n",
      "  Installing build dependencies: finished with status 'done'\n",
      "  Getting requirements to build wheel: started\n",
      "  Getting requirements to build wheel: finished with status 'done'\n",
      "  Preparing metadata (pyproject.toml): started\n",
      "  Preparing metadata (pyproject.toml): finished with status 'done'\n",
      "Collecting pysimplevalidate>=0.2.7\n",
      "  Downloading PySimpleValidate-0.2.12.tar.gz (22 kB)\n",
      "  Installing build dependencies: started\n",
      "  Installing build dependencies: finished with status 'done'\n",
      "  Getting requirements to build wheel: started\n",
      "  Getting requirements to build wheel: finished with status 'done'\n",
      "  Preparing metadata (pyproject.toml): started\n",
      "  Preparing metadata (pyproject.toml): finished with status 'done'\n",
      "Building wheels for collected packages: pyinputplus, pysimplevalidate, stdiomask\n",
      "  Building wheel for pyinputplus (pyproject.toml): started\n",
      "  Building wheel for pyinputplus (pyproject.toml): finished with status 'done'\n",
      "  Created wheel for pyinputplus: filename=PyInputPlus-0.2.12-py3-none-any.whl size=11322 sha256=c793303c9d263d316385fc9b453ef94b6918beea5a7619c347bcf61a489b5651\n",
      "  Stored in directory: c:\\users\\malho\\appdata\\local\\pip\\cache\\wheels\\2d\\72\\d9\\818396cecb072b3d697a47b007d9bbad74859a83a635e47d4d\n",
      "  Building wheel for pysimplevalidate (pyproject.toml): started\n",
      "  Building wheel for pysimplevalidate (pyproject.toml): finished with status 'done'\n",
      "  Created wheel for pysimplevalidate: filename=PySimpleValidate-0.2.12-py3-none-any.whl size=16204 sha256=4b4f3f72bca6e2c9a9d971a267509253cfa5fc693022693ee654e36f4ec51293\n",
      "  Stored in directory: c:\\users\\malho\\appdata\\local\\pip\\cache\\wheels\\05\\ad\\4d\\7289d8b9a519e88167728584876a1a1073a3f71666d875aba7\n",
      "  Building wheel for stdiomask (pyproject.toml): started\n",
      "  Building wheel for stdiomask (pyproject.toml): finished with status 'done'\n",
      "  Created wheel for stdiomask: filename=stdiomask-0.0.6-py3-none-any.whl size=3321 sha256=eeba56ef5dc1b98bdb5aabb813474d0514b44f1001789df74dd68a2ddbf73455\n",
      "  Stored in directory: c:\\users\\malho\\appdata\\local\\pip\\cache\\wheels\\41\\ee\\55\\6e4b70f6248b280caae3d938bc543206bb1a75988b739f1238\n",
      "Successfully built pyinputplus pysimplevalidate stdiomask\n",
      "Installing collected packages: stdiomask, pysimplevalidate, pyinputplus\n",
      "Successfully installed pyinputplus-0.2.12 pysimplevalidate-0.2.12 stdiomask-0.0.6\n"
     ]
    }
   ],
   "source": [
    "!pip install pyinputplus"
   ]
  },
  {
   "cell_type": "code",
   "execution_count": 3,
   "id": "fda7f340",
   "metadata": {},
   "outputs": [
    {
     "name": "stdout",
     "output_type": "stream",
     "text": [
      "Enter a number: 23\n",
      "Choose Yes or No: Yes\n",
      "Number: 23\n",
      "Response: Yes\n"
     ]
    }
   ],
   "source": [
    "import pyinputplus as pypi\n",
    "\n",
    "number = pypi.inputInt(\"Enter a number: \")\n",
    "response = pypi.inputChoice([\"Yes\", \"No\"], \"Choose Yes or No: \")\n",
    "\n",
    "print(\"Number:\", number)\n",
    "print(\"Response:\", response)\n"
   ]
  },
  {
   "cell_type": "code",
   "execution_count": null,
   "id": "c3add318",
   "metadata": {},
   "outputs": [],
   "source": []
  },
  {
   "cell_type": "markdown",
   "id": "4c3e1e66",
   "metadata": {},
   "source": [
    "3. How do you distinguish between inputInt() and inputFloat()?"
   ]
  },
  {
   "cell_type": "markdown",
   "id": "7ddbbb3c",
   "metadata": {},
   "source": [
    "inputInt() function:\n",
    "\n",
    "Purpose: This function is specifically designed to accept user input as an integer.\n",
    "Behavior: It prompts the user for input, validates that the input is a valid integer, and returns the integer value"
   ]
  },
  {
   "cell_type": "code",
   "execution_count": 4,
   "id": "2d23210e",
   "metadata": {},
   "outputs": [
    {
     "name": "stdout",
     "output_type": "stream",
     "text": [
      "Enter an integer: \n",
      "Blank values are not allowed.\n",
      "Enter an integer: 23\n",
      "Integer: 23\n"
     ]
    }
   ],
   "source": [
    "import pyinputplus as pypi\n",
    "\n",
    "number = pypi.inputInt(\"Enter an integer: \")\n",
    "print(\"Integer:\", number)\n"
   ]
  },
  {
   "cell_type": "markdown",
   "id": "888ecebc",
   "metadata": {},
   "source": [
    "inputFloat() function:\n",
    "\n",
    "Purpose: This function is specifically designed to accept user input as a float (decimal number).\n",
    "Behavior: It prompts the user for input, validates that the input is a valid float, and returns the float value.\n"
   ]
  },
  {
   "cell_type": "code",
   "execution_count": 5,
   "id": "6bfd8bac",
   "metadata": {},
   "outputs": [
    {
     "name": "stdout",
     "output_type": "stream",
     "text": [
      "Enter a float: \n",
      "Blank values are not allowed.\n",
      "Enter a float: 35\n",
      "Float: 35.0\n"
     ]
    }
   ],
   "source": [
    "import pyinputplus as pypi\n",
    "\n",
    "number = pypi.inputFloat(\"Enter a float: \")\n",
    "print(\"Float:\", number)\n"
   ]
  },
  {
   "cell_type": "code",
   "execution_count": null,
   "id": "c675e7cc",
   "metadata": {},
   "outputs": [],
   "source": []
  },
  {
   "cell_type": "markdown",
   "id": "49c38089",
   "metadata": {},
   "source": [
    "4. Using PyInputPlus, how do you ensure that the user enters a whole number between 0 and 99?"
   ]
  },
  {
   "cell_type": "markdown",
   "id": "b3ea10f4",
   "metadata": {},
   "source": [
    "To ensure that the user enters a whole number between 0 and 99 using PyInputPlus, you can use the inputInt() function along with the min and max parameters to define the acceptable range."
   ]
  },
  {
   "cell_type": "code",
   "execution_count": 6,
   "id": "e0affdc7",
   "metadata": {},
   "outputs": [
    {
     "name": "stdout",
     "output_type": "stream",
     "text": [
      "Enter a number between 0 and 99: 34\n",
      "Number: 34\n"
     ]
    }
   ],
   "source": [
    "import pyinputplus as pypi\n",
    "\n",
    "number = pypi.inputInt(\"Enter a number between 0 and 99: \", min=0, max=99)\n",
    "print(\"Number:\", number)\n"
   ]
  },
  {
   "cell_type": "code",
   "execution_count": null,
   "id": "46eea086",
   "metadata": {},
   "outputs": [],
   "source": []
  },
  {
   "cell_type": "markdown",
   "id": "526a6e4f",
   "metadata": {},
   "source": [
    "5. What is transferred to the keyword arguments allowRegexes and blockRegexes?"
   ]
  },
  {
   "cell_type": "markdown",
   "id": "e36e8c93",
   "metadata": {},
   "source": [
    "In PyInputPlus, the keyword arguments allowRegexes and blockRegexes are used to specify regular expressions that define patterns for allowing or blocking certain input values."
   ]
  },
  {
   "cell_type": "markdown",
   "id": "44090b22",
   "metadata": {},
   "source": [
    "allowRegexes:\n",
    "\n",
    "Type: List or tuple of regular expressions (strings)\n",
    "Purpose: Specifies a list of regular expressions that define patterns for input values that are allowed.\n",
    "Usage: If an input value matches any of the regular expressions in the allowRegexes list, it is considered a valid input. If it does not match any of the patterns, PyInputPlus will reject the input and prompt the user to enter a valid value."
   ]
  },
  {
   "cell_type": "markdown",
   "id": "c2391d37",
   "metadata": {},
   "source": [
    "blockRegexes:\n",
    "\n",
    "Type: List or tuple of regular expressions (strings)\n",
    "Purpose: Specifies a list of regular expressions that define patterns for input values that are blocked or disallowed.\n",
    "Usage: If an input value matches any of the regular expressions in the blockRegexes list, it is considered invalid, and PyInputPlus will reject the input, prompting the user to enter a different value."
   ]
  },
  {
   "cell_type": "code",
   "execution_count": 7,
   "id": "a335d9de",
   "metadata": {},
   "outputs": [
    {
     "name": "stdout",
     "output_type": "stream",
     "text": [
      "Enter a value starting with 'A' or 'B': \n",
      "Blank values are not allowed.\n",
      "Enter a value starting with 'A' or 'B': 2e\n",
      "Input: 2e\n"
     ]
    }
   ],
   "source": [
    "import pyinputplus as pypi\n",
    "\n",
    "input_value = pypi.inputStr(\"Enter a value starting with 'A' or 'B': \", allowRegexes=[r'^[AB].*'])\n",
    "print(\"Input:\", input_value)\n"
   ]
  },
  {
   "cell_type": "code",
   "execution_count": null,
   "id": "73682cde",
   "metadata": {},
   "outputs": [],
   "source": []
  },
  {
   "cell_type": "markdown",
   "id": "7b2ecac0",
   "metadata": {},
   "source": [
    "6. If a blank input is entered three times, what does inputStr(limit=3) do?"
   ]
  },
  {
   "cell_type": "markdown",
   "id": "9b379762",
   "metadata": {},
   "source": [
    "\n",
    "If a blank input is entered three times when using inputStr(limit=3) in PyInputPlus, it will raise a pyinputplus.RetryLimitException exception.\n",
    "\n",
    "The limit parameter in inputStr() specifies the maximum number of times the user can retry entering a valid input before the function raises an exception. By default, the limit value is set to 3.\n",
    "\n",
    "In the case of inputStr(limit=3), if the user enters a blank input three times consecutively, meaning they don't provide any input within the allowed retries, PyInputPlus will raise a RetryLimitException indicating that the maximum number of retries has been reached."
   ]
  },
  {
   "cell_type": "code",
   "execution_count": 8,
   "id": "78b411cf",
   "metadata": {},
   "outputs": [
    {
     "name": "stdout",
     "output_type": "stream",
     "text": [
      "Enter a value: 76\n",
      "Input: 76\n"
     ]
    }
   ],
   "source": [
    "import pyinputplus as pypi\n",
    "\n",
    "try:\n",
    "    input_value = pypi.inputStr(\"Enter a value: \", limit=3)\n",
    "    print(\"Input:\", input_value)\n",
    "except pypi.RetryLimitException:\n",
    "    print(\"Maximum number of retries reached.\")\n"
   ]
  },
  {
   "cell_type": "code",
   "execution_count": null,
   "id": "3d2cc08b",
   "metadata": {},
   "outputs": [],
   "source": []
  },
  {
   "cell_type": "markdown",
   "id": "821bcbc6",
   "metadata": {},
   "source": [
    "7. If blank input is entered three times, what does inputStr(limit=3, default='hello') do?\n"
   ]
  },
  {
   "cell_type": "markdown",
   "id": "cd618db2",
   "metadata": {},
   "source": [
    "If a blank input is entered three times when using inputStr(limit=3, default='hello') in PyInputPlus, the function will return the default value 'hello' instead of raising an exception.\n",
    "\n",
    "The default parameter in inputStr() specifies the value that should be returned if the user exceeds the maximum number of retries (limit) without providing a valid input. By default, the default value is None.\n",
    "\n",
    "In the case of inputStr(limit=3, default='hello'), if the user enters a blank input three times consecutively, the function will return the default value 'hello' instead of raising an exception."
   ]
  },
  {
   "cell_type": "code",
   "execution_count": 9,
   "id": "c88c6580",
   "metadata": {},
   "outputs": [
    {
     "name": "stdout",
     "output_type": "stream",
     "text": [
      "Enter a value: 98\n",
      "Input: 98\n"
     ]
    }
   ],
   "source": [
    "import pyinputplus as pypi\n",
    "\n",
    "input_value = pypi.inputStr(\"Enter a value: \", limit=3, default='hello')\n",
    "print(\"Input:\", input_value)\n"
   ]
  }
 ],
 "metadata": {
  "kernelspec": {
   "display_name": "Python 3 (ipykernel)",
   "language": "python",
   "name": "python3"
  },
  "language_info": {
   "codemirror_mode": {
    "name": "ipython",
    "version": 3
   },
   "file_extension": ".py",
   "mimetype": "text/x-python",
   "name": "python",
   "nbconvert_exporter": "python",
   "pygments_lexer": "ipython3",
   "version": "3.10.9"
  }
 },
 "nbformat": 4,
 "nbformat_minor": 5
}
