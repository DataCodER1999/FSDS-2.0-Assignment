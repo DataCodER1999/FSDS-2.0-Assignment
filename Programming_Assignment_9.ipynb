{
 "cells": [
  {
   "cell_type": "markdown",
   "id": "fa8226fc",
   "metadata": {},
   "source": [
    "1.\tWrite a Python program to check if the given number is a Disarium Number?"
   ]
  },
  {
   "cell_type": "code",
   "execution_count": 1,
   "id": "b8e645c3",
   "metadata": {},
   "outputs": [
    {
     "name": "stdout",
     "output_type": "stream",
     "text": [
      "Enter a number: 34\n",
      "34 is not a Disarium number\n"
     ]
    }
   ],
   "source": [
    "def is_disarium_number(number):\n",
    "    \n",
    "    number_str = str(number)\n",
    "    length = len(number_str)\n",
    "    disarium_sum = 0\n",
    "\n",
    "    for i in range(length):\n",
    "        disarium_sum += int(number_str[i]) ** (i + 1)\n",
    "        \n",
    "    if disarium_sum == number:\n",
    "        return True\n",
    "    else:\n",
    "        return False\n",
    "    \n",
    "number = int(input(\"Enter a number: \"))\n",
    "if is_disarium_number(number):\n",
    "    print(number, \"is a Disarium number\")\n",
    "else:\n",
    "    print(number, \"is not a Disarium number\")\n"
   ]
  },
  {
   "cell_type": "code",
   "execution_count": null,
   "id": "feb68517",
   "metadata": {},
   "outputs": [],
   "source": []
  },
  {
   "cell_type": "markdown",
   "id": "62e7a7af",
   "metadata": {},
   "source": [
    "2.\tWrite a Python program to print all disarium numbers between 1 to 100?"
   ]
  },
  {
   "cell_type": "code",
   "execution_count": 2,
   "id": "36a1cd6c",
   "metadata": {},
   "outputs": [
    {
     "name": "stdout",
     "output_type": "stream",
     "text": [
      "1\n",
      "2\n",
      "3\n",
      "4\n",
      "5\n",
      "6\n",
      "7\n",
      "8\n",
      "9\n",
      "89\n"
     ]
    }
   ],
   "source": [
    "def is_disarium_number(number):\n",
    "   \n",
    "    number_str = str(number)\n",
    "    length = len(number_str)\n",
    "    disarium_sum = 0\n",
    "\n",
    "    for i in range(length):\n",
    "        disarium_sum += int(number_str[i]) ** (i + 1)\n",
    "    if disarium_sum == number:\n",
    "        return True\n",
    "    else:\n",
    "        return False\n",
    "for number in range(1, 101):\n",
    "    if is_disarium_number(number):\n",
    "        print(number)\n"
   ]
  },
  {
   "cell_type": "code",
   "execution_count": null,
   "id": "cee37863",
   "metadata": {},
   "outputs": [],
   "source": []
  },
  {
   "cell_type": "markdown",
   "id": "5c174cf8",
   "metadata": {},
   "source": [
    "3.\tWrite a Python program to check if the given number is Happy Number?"
   ]
  },
  {
   "cell_type": "code",
   "execution_count": 3,
   "id": "eff07858",
   "metadata": {},
   "outputs": [
    {
     "name": "stdout",
     "output_type": "stream",
     "text": [
      "Enter a number: 45\n",
      "45 is not a Happy number\n"
     ]
    }
   ],
   "source": [
    "def is_happy_number(number):\n",
    "    \n",
    "    def calculate_square_sum(num):\n",
    "        square_sum = 0\n",
    "        while num > 0:\n",
    "            digit = num % 10\n",
    "            square_sum += digit ** 2\n",
    "            num //= 10\n",
    "        return square_sum\n",
    "\n",
    "    seen = set()\n",
    "    while number != 1 and number not in seen:\n",
    "        seen.add(number)\n",
    "        number = calculate_square_sum(number)\n",
    "\n",
    "    if number == 1:\n",
    "        return True\n",
    "    else:\n",
    "        return False\n",
    "\n",
    "number = int(input(\"Enter a number: \"))\n",
    "\n",
    "if is_happy_number(number):\n",
    "    print(number, \"is a Happy number\")\n",
    "else:\n",
    "    print(number, \"is not a Happy number\")\n"
   ]
  },
  {
   "cell_type": "code",
   "execution_count": null,
   "id": "f9c451d7",
   "metadata": {},
   "outputs": [],
   "source": []
  },
  {
   "cell_type": "markdown",
   "id": "89c7e6a1",
   "metadata": {},
   "source": [
    "4.\tWrite a Python program to print all happy numbers between 1 and 100?"
   ]
  },
  {
   "cell_type": "code",
   "execution_count": 4,
   "id": "87083755",
   "metadata": {},
   "outputs": [
    {
     "name": "stdout",
     "output_type": "stream",
     "text": [
      "1\n",
      "7\n",
      "10\n",
      "13\n",
      "19\n",
      "23\n",
      "28\n",
      "31\n",
      "32\n",
      "44\n",
      "49\n",
      "68\n",
      "70\n",
      "79\n",
      "82\n",
      "86\n",
      "91\n",
      "94\n",
      "97\n",
      "100\n"
     ]
    }
   ],
   "source": [
    "def is_happy_number(number):\n",
    "    \n",
    "    def calculate_square_sum(num):\n",
    "        square_sum = 0\n",
    "        while num > 0:\n",
    "            digit = num % 10\n",
    "            square_sum += digit ** 2\n",
    "            num //= 10\n",
    "        return square_sum\n",
    "\n",
    "    seen = set()\n",
    "    while number != 1 and number not in seen:\n",
    "        seen.add(number)\n",
    "        number = calculate_square_sum(number)\n",
    "\n",
    "    if number == 1:\n",
    "        return True\n",
    "    else:\n",
    "        return False\n",
    "\n",
    "for number in range(1, 101):\n",
    "    if is_happy_number(number):\n",
    "        print(number)\n"
   ]
  },
  {
   "cell_type": "code",
   "execution_count": null,
   "id": "582ac0db",
   "metadata": {},
   "outputs": [],
   "source": []
  },
  {
   "cell_type": "markdown",
   "id": "ed05e81f",
   "metadata": {},
   "source": [
    "5.\tWrite a Python program to determine whether the given number is a Harshad Number?"
   ]
  },
  {
   "cell_type": "code",
   "execution_count": 5,
   "id": "8ec110cb",
   "metadata": {},
   "outputs": [
    {
     "name": "stdout",
     "output_type": "stream",
     "text": [
      "Enter a number: 56\n",
      "56 is not a Harshad number\n"
     ]
    }
   ],
   "source": [
    "def is_harshad_number(number):\n",
    " \n",
    "    digit_sum = sum(int(digit) for digit in str(number))\n",
    "\n",
    "    if number % digit_sum == 0:\n",
    "        return True\n",
    "    else:\n",
    "        return False\n",
    "\n",
    "number = int(input(\"Enter a number: \"))\n",
    "\n",
    "if is_harshad_number(number):\n",
    "    print(number, \"is a Harshad number\")\n",
    "else:\n",
    "    print(number, \"is not a Harshad number\")\n"
   ]
  },
  {
   "cell_type": "code",
   "execution_count": null,
   "id": "757a5305",
   "metadata": {},
   "outputs": [],
   "source": []
  },
  {
   "cell_type": "markdown",
   "id": "934b5506",
   "metadata": {},
   "source": [
    "6.\tWrite a Python program to print all pronic numbers between 1 and 100?"
   ]
  },
  {
   "cell_type": "code",
   "execution_count": 6,
   "id": "cc391e4a",
   "metadata": {},
   "outputs": [
    {
     "name": "stdout",
     "output_type": "stream",
     "text": [
      "2\n",
      "6\n",
      "12\n",
      "20\n",
      "30\n",
      "42\n",
      "56\n",
      "72\n",
      "90\n"
     ]
    }
   ],
   "source": [
    "def is_pronic_number(number):\n",
    "   \n",
    "    for i in range(1, int(number**0.5) + 1):\n",
    "        if i * (i + 1) == number:\n",
    "            return True\n",
    "    return False\n",
    "\n",
    "for number in range(1, 101):\n",
    "    if is_pronic_number(number):\n",
    "        print(number)\n"
   ]
  }
 ],
 "metadata": {
  "kernelspec": {
   "display_name": "Python 3 (ipykernel)",
   "language": "python",
   "name": "python3"
  },
  "language_info": {
   "codemirror_mode": {
    "name": "ipython",
    "version": 3
   },
   "file_extension": ".py",
   "mimetype": "text/x-python",
   "name": "python",
   "nbconvert_exporter": "python",
   "pygments_lexer": "ipython3",
   "version": "3.10.9"
  }
 },
 "nbformat": 4,
 "nbformat_minor": 5
}
