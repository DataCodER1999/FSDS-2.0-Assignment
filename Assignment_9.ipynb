{
 "cells": [
  {
   "cell_type": "markdown",
   "id": "c2ab0240",
   "metadata": {},
   "source": [
    "1. To what does a relative path refer?"
   ]
  },
  {
   "cell_type": "markdown",
   "id": "868eef6d",
   "metadata": {},
   "source": [
    "A relative path refers to the path of a file or directory relative to the current working directory or another reference point. It specifies the location of a file or directory relative to the current context rather than providing the complete or absolute path from the root directory.\n",
    "\n",
    "When specifying a relative path, the assumption is that the file or directory is located within the current directory or within a directory hierarchy relative to the current directory."
   ]
  },
  {
   "cell_type": "code",
   "execution_count": null,
   "id": "7e971494",
   "metadata": {},
   "outputs": [],
   "source": []
  },
  {
   "cell_type": "markdown",
   "id": "787e0b86",
   "metadata": {},
   "source": [
    "2. What does an absolute path start with your operating system?"
   ]
  },
  {
   "cell_type": "markdown",
   "id": "4516dc9d",
   "metadata": {},
   "source": [
    "In most operating systems, an absolute path starts with the root directory. The root directory is the highest level directory in the file system hierarchy and serves as the starting point for navigating the entire directory structure.\n",
    "\n",
    "On Windows systems, the root directory is typically denoted by a drive letter followed by a colon (:) and a backslash (\\). For example: C:\\Users\\user\\Documents\\file.txt.\n",
    "\n",
    "The absolute path provides the complete and unambiguous location of a file or directory, starting from the root directory and specifying all the intermediate directories necessary to reach the desired file or directory.\n",
    "\n",
    "Compared to relative paths, absolute paths are not dependent on the current working directory and can be used to access files or directories from any location in the file system."
   ]
  },
  {
   "cell_type": "code",
   "execution_count": null,
   "id": "4dd950a9",
   "metadata": {},
   "outputs": [],
   "source": []
  },
  {
   "cell_type": "markdown",
   "id": "1ef4c455",
   "metadata": {},
   "source": [
    "3. What do the functions os.getcwd() and os.chdir() do?"
   ]
  },
  {
   "cell_type": "markdown",
   "id": "e2d27f90",
   "metadata": {},
   "source": [
    "The os.getcwd() and os.chdir() functions are part of the os module in Python, which provides a way to interact with the operating system.\n",
    "\n",
    "os.getcwd() returns a string representing the current working directory (CWD) of the Python script or the interactive shell session.\n",
    "The current working directory is the directory in the file system from which the Python script is executed or the shell session is running.\n",
    "It can be useful to retrieve the current working directory for various purposes, such as locating and manipulating files.\n"
   ]
  },
  {
   "cell_type": "code",
   "execution_count": null,
   "id": "4c29274f",
   "metadata": {},
   "outputs": [],
   "source": [
    "import os\n",
    "\n",
    "current_directory = os.getcwd()\n",
    "print(\"Current directory:\", current_directory)\n"
   ]
  },
  {
   "cell_type": "markdown",
   "id": "3328b947",
   "metadata": {},
   "source": [
    "os.chdir(path) changes the current working directory to the specified path.\n",
    "The path argument is a string representing the new directory path that you want to set as the current working directory.\n",
    "It allows you to navigate and switch to different directories within the file system."
   ]
  },
  {
   "cell_type": "code",
   "execution_count": null,
   "id": "67263a05",
   "metadata": {},
   "outputs": [],
   "source": [
    "import os\n",
    "\n",
    "new_directory = \"/path/to/new/directory\"\n",
    "os.chdir(new_directory)\n"
   ]
  },
  {
   "cell_type": "code",
   "execution_count": null,
   "id": "f559591f",
   "metadata": {},
   "outputs": [],
   "source": []
  },
  {
   "cell_type": "markdown",
   "id": "938ac536",
   "metadata": {},
   "source": [
    "4. What are the . and .. folders?"
   ]
  },
  {
   "cell_type": "markdown",
   "id": "ba344761",
   "metadata": {},
   "source": [
    "The . and .. folders are special directory references found in most file systems:\n",
    "\n",
    ". (dot):\n",
    "\n",
    "The . (dot) represents the current directory.\n",
    "It is a way to refer to the directory in which a command or script is currently executing.\n",
    "For example, if you are in the directory /home/user/documents, the . refers to /home/user/documents itself.\n",
    ".. (dot-dot):\n",
    "\n",
    "The .. (dot-dot) represents the parent directory.\n",
    "It is a way to refer to the directory immediately above the current directory in the file system hierarchy.\n",
    "For example, if you are in the directory /home/user/documents, the .. refers to /home/user, the parent directory of /home/user/documents."
   ]
  },
  {
   "cell_type": "code",
   "execution_count": null,
   "id": "8bbcff2e",
   "metadata": {},
   "outputs": [],
   "source": []
  },
  {
   "cell_type": "markdown",
   "id": "27e185ed",
   "metadata": {},
   "source": [
    "5. In C:\\bacon\\eggs\\spam.txt, which part is the dir name, and which part is the base name?"
   ]
  },
  {
   "cell_type": "markdown",
   "id": "94bfa291",
   "metadata": {},
   "source": [
    "In the path C:\\bacon\\eggs\\spam.txt:\n",
    "\n",
    "The directory name (dir name) refers to the path of the directory containing the file.\n",
    "\n",
    "The dir name in this case is C:\\bacon\\eggs.\n",
    "The base name refers to the actual file name itself without the directory path.\n",
    "\n",
    "The base name in this case is spam.txt."
   ]
  },
  {
   "cell_type": "code",
   "execution_count": null,
   "id": "250606d1",
   "metadata": {},
   "outputs": [],
   "source": []
  },
  {
   "cell_type": "markdown",
   "id": "d05aeeb6",
   "metadata": {},
   "source": [
    "6. What are the three “mode” arguments that can be passed to the open() function?"
   ]
  },
  {
   "cell_type": "markdown",
   "id": "f77aa046",
   "metadata": {},
   "source": [
    "Read mode ('r'):\n",
    "\n",
    "This is the default mode when no mode argument is specified.\n",
    "It allows reading data from an existing file.\n",
    "The file must exist; otherwise, a FileNotFoundError will be raised.\n",
    "Example: file = open('filename.txt', 'r')\n",
    "Write mode ('w'):\n",
    "\n",
    "It allows creating a new file or overwriting an existing file.\n",
    "If the file doesn't exist, it will be created. If it already exists, its contents will be truncated.\n",
    "Example: file = open('filename.txt', 'w')\n",
    "Append mode ('a'):\n",
    "\n",
    "It allows appending data to an existing file.\n",
    "If the file doesn't exist, it will be created.\n",
    "When writing data in append mode, it will be added at the end of the file without overwriting the existing contents.\n",
    "Example: file = open('filename.txt', 'a')"
   ]
  },
  {
   "cell_type": "code",
   "execution_count": null,
   "id": "23b3339b",
   "metadata": {},
   "outputs": [],
   "source": []
  },
  {
   "cell_type": "markdown",
   "id": "1713f3dd",
   "metadata": {},
   "source": [
    "7. What happens if an existing file is opened in write mode?"
   ]
  },
  {
   "cell_type": "markdown",
   "id": "b81a90eb",
   "metadata": {},
   "source": [
    "If an existing file is opened in write mode then text already present will be overwritten by the new text\n",
    "\n",
    "If the file exists:\n",
    "The contents of the existing file will be truncated, i.e., completely erased.\n",
    "The file pointer will be positioned at the beginning of the file.\n",
    "Any data previously stored in the file will be lost.\n",
    "The file will be ready for writing new data.\n",
    "\n",
    "If the file does not exist:\n",
    "A new file with the specified name will be created.\n",
    "The file will be opened in write mode.\n",
    "The file pointer will be positioned at the beginning of the new file.\n",
    "You can start writing data to the file."
   ]
  },
  {
   "cell_type": "code",
   "execution_count": null,
   "id": "869dd60e",
   "metadata": {},
   "outputs": [],
   "source": []
  },
  {
   "cell_type": "markdown",
   "id": "ebf71dd3",
   "metadata": {},
   "source": [
    "8. How do you tell the difference between read() and readlines()?"
   ]
  },
  {
   "cell_type": "markdown",
   "id": "fb4d0346",
   "metadata": {},
   "source": [
    "The read() and readlines() methods are used to read data from a file object in Python, but they differ in how they retrieve and present the data:\n",
    "\n",
    "read() method:\n",
    "\n",
    "The read() method reads the entire contents of the file as a single string.\n",
    "It returns a string containing all the characters from the file, including newlines and other special characters.\n",
    "If the file is large, calling read() may result in loading the entire file into memory, which can consume a significant amount of memory."
   ]
  },
  {
   "cell_type": "code",
   "execution_count": null,
   "id": "bd7c94c5",
   "metadata": {},
   "outputs": [],
   "source": [
    "with open('filename.txt', 'r') as file:\n",
    "    data = file.read()\n",
    "    print(data)"
   ]
  },
  {
   "cell_type": "markdown",
   "id": "69e30c68",
   "metadata": {},
   "source": [
    "readlines() method:\n",
    "\n",
    "The readlines() method reads the lines of the file and returns them as a list of strings.\n",
    "Each element in the list represents a line from the file, including the newline character at the end of each line.\n",
    "It is useful when you want to process the file line by line or iterate over the lines."
   ]
  },
  {
   "cell_type": "code",
   "execution_count": null,
   "id": "36fe803c",
   "metadata": {},
   "outputs": [],
   "source": [
    "with open('filename.txt', 'r') as file:\n",
    "    lines = file.readlines()\n",
    "    for line in lines:\n",
    "        print(line)\n"
   ]
  },
  {
   "cell_type": "code",
   "execution_count": null,
   "id": "6d4f1343",
   "metadata": {},
   "outputs": [],
   "source": []
  },
  {
   "cell_type": "markdown",
   "id": "d8c21845",
   "metadata": {},
   "source": [
    "9. What data structure does a shelf value resemble?"
   ]
  },
  {
   "cell_type": "markdown",
   "id": "687c9734",
   "metadata": {},
   "source": [
    "In Python, a shelf value from the shelve module resembles a dictionary-like data structure. The shelve module provides a persistent, dictionary-like object that can be used to store and retrieve Python objects using a key-value format.\n",
    "\n",
    "The shelf value acts like a dictionary in that it allows you to store and retrieve data using keys. The keys and values can be of any pickleable data type, allowing for flexibility in the types of data that can be stored."
   ]
  },
  {
   "cell_type": "code",
   "execution_count": null,
   "id": "03340f9d",
   "metadata": {},
   "outputs": [],
   "source": []
  }
 ],
 "metadata": {
  "kernelspec": {
   "display_name": "Python 3 (ipykernel)",
   "language": "python",
   "name": "python3"
  },
  "language_info": {
   "codemirror_mode": {
    "name": "ipython",
    "version": 3
   },
   "file_extension": ".py",
   "mimetype": "text/x-python",
   "name": "python",
   "nbconvert_exporter": "python",
   "pygments_lexer": "ipython3",
   "version": "3.10.9"
  }
 },
 "nbformat": 4,
 "nbformat_minor": 5
}
